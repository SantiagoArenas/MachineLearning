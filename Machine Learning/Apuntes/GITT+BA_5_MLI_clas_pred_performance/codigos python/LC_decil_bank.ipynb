{
 "cells": [
  {
   "cell_type": "code",
   "execution_count": 1,
   "id": "connected-victory",
   "metadata": {
    "execution": {
     "iopub.execute_input": "2021-04-04T11:20:39.603985Z",
     "iopub.status.busy": "2021-04-04T11:20:39.602740Z",
     "iopub.status.idle": "2021-04-04T11:20:39.606616Z",
     "shell.execute_reply": "2021-04-04T11:20:39.607203Z"
    },
    "papermill": {
     "duration": 0.040295,
     "end_time": "2021-04-04T11:20:39.607528",
     "exception": false,
     "start_time": "2021-04-04T11:20:39.567233",
     "status": "completed"
    },
    "tags": []
   },
   "outputs": [],
   "source": [
    "#In This notebook implements Logistic Regression using Statsmodel package.\n",
    "#Also it finds Lift curve and Gain curve manually and by using Scikitplot Library"
   ]
  },
  {
   "cell_type": "code",
   "execution_count": 2,
   "id": "rapid-glass",
   "metadata": {
    "_cell_guid": "b1076dfc-b9ad-4769-8c92-a6c4dae69d19",
    "_uuid": "8f2839f25d086af736a60e9eeb907d3b93b6e0e5",
    "execution": {
     "iopub.execute_input": "2021-04-04T11:20:39.669503Z",
     "iopub.status.busy": "2021-04-04T11:20:39.668809Z",
     "iopub.status.idle": "2021-04-04T11:20:39.674618Z",
     "shell.execute_reply": "2021-04-04T11:20:39.673910Z"
    },
    "papermill": {
     "duration": 0.038109,
     "end_time": "2021-04-04T11:20:39.674779",
     "exception": false,
     "start_time": "2021-04-04T11:20:39.636670",
     "status": "completed"
    },
    "tags": []
   },
   "outputs": [],
   "source": [
    "import numpy as np\n",
    "import pandas as pd"
   ]
  },
  {
   "cell_type": "code",
   "execution_count": 3,
   "id": "talented-aquarium",
   "metadata": {
    "execution": {
     "iopub.execute_input": "2021-04-04T11:20:39.737590Z",
     "iopub.status.busy": "2021-04-04T11:20:39.736932Z",
     "iopub.status.idle": "2021-04-04T11:20:40.780233Z",
     "shell.execute_reply": "2021-04-04T11:20:40.779152Z"
    },
    "papermill": {
     "duration": 1.076094,
     "end_time": "2021-04-04T11:20:40.780391",
     "exception": false,
     "start_time": "2021-04-04T11:20:39.704297",
     "status": "completed"
    },
    "tags": []
   },
   "outputs": [],
   "source": [
    "import matplotlib.pyplot as plt\n",
    "import seaborn as sns\n",
    "%matplotlib inline\n",
    "\n",
    "# Configuración warnings\n",
    "# ------------------------------------------------------------------------------\n",
    "import warnings\n",
    "#warnings.filterwarnings('once')\n",
    "warnings.filterwarnings('ignore')"
   ]
  },
  {
   "cell_type": "code",
   "execution_count": 4,
   "id": "painful-armstrong",
   "metadata": {
    "execution": {
     "iopub.execute_input": "2021-04-04T11:20:40.845580Z",
     "iopub.status.busy": "2021-04-04T11:20:40.844918Z",
     "iopub.status.idle": "2021-04-04T11:20:41.033196Z",
     "shell.execute_reply": "2021-04-04T11:20:41.032049Z"
    },
    "papermill": {
     "duration": 0.222836,
     "end_time": "2021-04-04T11:20:41.033366",
     "exception": false,
     "start_time": "2021-04-04T11:20:40.810530",
     "status": "completed"
    },
    "tags": []
   },
   "outputs": [
    {
     "data": {
      "text/html": [
       "<div>\n",
       "<style scoped>\n",
       "    .dataframe tbody tr th:only-of-type {\n",
       "        vertical-align: middle;\n",
       "    }\n",
       "\n",
       "    .dataframe tbody tr th {\n",
       "        vertical-align: top;\n",
       "    }\n",
       "\n",
       "    .dataframe thead th {\n",
       "        text-align: right;\n",
       "    }\n",
       "</style>\n",
       "<table border=\"1\" class=\"dataframe\">\n",
       "  <thead>\n",
       "    <tr style=\"text-align: right;\">\n",
       "      <th></th>\n",
       "      <th>age</th>\n",
       "      <th>job</th>\n",
       "      <th>marital</th>\n",
       "      <th>education</th>\n",
       "      <th>default</th>\n",
       "      <th>balance</th>\n",
       "      <th>housing</th>\n",
       "      <th>loan</th>\n",
       "      <th>contact</th>\n",
       "      <th>day</th>\n",
       "      <th>month</th>\n",
       "      <th>duration</th>\n",
       "      <th>campaign</th>\n",
       "      <th>pdays</th>\n",
       "      <th>previous</th>\n",
       "      <th>poutcome</th>\n",
       "      <th>deposit</th>\n",
       "    </tr>\n",
       "  </thead>\n",
       "  <tbody>\n",
       "    <tr>\n",
       "      <th>0</th>\n",
       "      <td>58</td>\n",
       "      <td>management</td>\n",
       "      <td>married</td>\n",
       "      <td>tertiary</td>\n",
       "      <td>no</td>\n",
       "      <td>2143</td>\n",
       "      <td>yes</td>\n",
       "      <td>no</td>\n",
       "      <td>unknown</td>\n",
       "      <td>5</td>\n",
       "      <td>may</td>\n",
       "      <td>261</td>\n",
       "      <td>1</td>\n",
       "      <td>-1</td>\n",
       "      <td>0</td>\n",
       "      <td>unknown</td>\n",
       "      <td>no</td>\n",
       "    </tr>\n",
       "    <tr>\n",
       "      <th>1</th>\n",
       "      <td>44</td>\n",
       "      <td>technician</td>\n",
       "      <td>single</td>\n",
       "      <td>secondary</td>\n",
       "      <td>no</td>\n",
       "      <td>29</td>\n",
       "      <td>yes</td>\n",
       "      <td>no</td>\n",
       "      <td>unknown</td>\n",
       "      <td>5</td>\n",
       "      <td>may</td>\n",
       "      <td>151</td>\n",
       "      <td>1</td>\n",
       "      <td>-1</td>\n",
       "      <td>0</td>\n",
       "      <td>unknown</td>\n",
       "      <td>no</td>\n",
       "    </tr>\n",
       "    <tr>\n",
       "      <th>2</th>\n",
       "      <td>33</td>\n",
       "      <td>entrepreneur</td>\n",
       "      <td>married</td>\n",
       "      <td>secondary</td>\n",
       "      <td>no</td>\n",
       "      <td>2</td>\n",
       "      <td>yes</td>\n",
       "      <td>yes</td>\n",
       "      <td>unknown</td>\n",
       "      <td>5</td>\n",
       "      <td>may</td>\n",
       "      <td>76</td>\n",
       "      <td>1</td>\n",
       "      <td>-1</td>\n",
       "      <td>0</td>\n",
       "      <td>unknown</td>\n",
       "      <td>no</td>\n",
       "    </tr>\n",
       "    <tr>\n",
       "      <th>3</th>\n",
       "      <td>47</td>\n",
       "      <td>blue-collar</td>\n",
       "      <td>married</td>\n",
       "      <td>unknown</td>\n",
       "      <td>no</td>\n",
       "      <td>1506</td>\n",
       "      <td>yes</td>\n",
       "      <td>no</td>\n",
       "      <td>unknown</td>\n",
       "      <td>5</td>\n",
       "      <td>may</td>\n",
       "      <td>92</td>\n",
       "      <td>1</td>\n",
       "      <td>-1</td>\n",
       "      <td>0</td>\n",
       "      <td>unknown</td>\n",
       "      <td>no</td>\n",
       "    </tr>\n",
       "    <tr>\n",
       "      <th>4</th>\n",
       "      <td>33</td>\n",
       "      <td>unknown</td>\n",
       "      <td>single</td>\n",
       "      <td>unknown</td>\n",
       "      <td>no</td>\n",
       "      <td>1</td>\n",
       "      <td>no</td>\n",
       "      <td>no</td>\n",
       "      <td>unknown</td>\n",
       "      <td>5</td>\n",
       "      <td>may</td>\n",
       "      <td>198</td>\n",
       "      <td>1</td>\n",
       "      <td>-1</td>\n",
       "      <td>0</td>\n",
       "      <td>unknown</td>\n",
       "      <td>no</td>\n",
       "    </tr>\n",
       "  </tbody>\n",
       "</table>\n",
       "</div>"
      ],
      "text/plain": [
       "   age           job  marital  education default  balance housing loan  \\\n",
       "0   58    management  married   tertiary      no     2143     yes   no   \n",
       "1   44    technician   single  secondary      no       29     yes   no   \n",
       "2   33  entrepreneur  married  secondary      no        2     yes  yes   \n",
       "3   47   blue-collar  married    unknown      no     1506     yes   no   \n",
       "4   33       unknown   single    unknown      no        1      no   no   \n",
       "\n",
       "   contact  day month  duration  campaign  pdays  previous poutcome deposit  \n",
       "0  unknown    5   may       261         1     -1         0  unknown      no  \n",
       "1  unknown    5   may       151         1     -1         0  unknown      no  \n",
       "2  unknown    5   may        76         1     -1         0  unknown      no  \n",
       "3  unknown    5   may        92         1     -1         0  unknown      no  \n",
       "4  unknown    5   may       198         1     -1         0  unknown      no  "
      ]
     },
     "execution_count": 4,
     "metadata": {},
     "output_type": "execute_result"
    }
   ],
   "source": [
    "bank = pd.read_csv('bank.csv')\n",
    "bank.head()"
   ]
  },
  {
   "cell_type": "code",
   "execution_count": 5,
   "id": "commercial-hello",
   "metadata": {
    "execution": {
     "iopub.execute_input": "2021-04-04T11:20:41.118393Z",
     "iopub.status.busy": "2021-04-04T11:20:41.117694Z",
     "iopub.status.idle": "2021-04-04T11:20:41.139267Z",
     "shell.execute_reply": "2021-04-04T11:20:41.138517Z"
    },
    "papermill": {
     "duration": 0.075402,
     "end_time": "2021-04-04T11:20:41.139523",
     "exception": false,
     "start_time": "2021-04-04T11:20:41.064121",
     "status": "completed"
    },
    "tags": []
   },
   "outputs": [
    {
     "name": "stdout",
     "output_type": "stream",
     "text": [
      "<class 'pandas.core.frame.DataFrame'>\n",
      "RangeIndex: 45211 entries, 0 to 45210\n",
      "Data columns (total 17 columns):\n",
      " #   Column     Non-Null Count  Dtype \n",
      "---  ------     --------------  ----- \n",
      " 0   age        45211 non-null  int64 \n",
      " 1   job        45211 non-null  object\n",
      " 2   marital    45211 non-null  object\n",
      " 3   education  45211 non-null  object\n",
      " 4   default    45211 non-null  object\n",
      " 5   balance    45211 non-null  int64 \n",
      " 6   housing    45211 non-null  object\n",
      " 7   loan       45211 non-null  object\n",
      " 8   contact    45211 non-null  object\n",
      " 9   day        45211 non-null  int64 \n",
      " 10  month      45211 non-null  object\n",
      " 11  duration   45211 non-null  int64 \n",
      " 12  campaign   45211 non-null  int64 \n",
      " 13  pdays      45211 non-null  int64 \n",
      " 14  previous   45211 non-null  int64 \n",
      " 15  poutcome   45211 non-null  object\n",
      " 16  deposit    45211 non-null  object\n",
      "dtypes: int64(7), object(10)\n",
      "memory usage: 5.9+ MB\n"
     ]
    }
   ],
   "source": [
    "bank.info() # variables included in the DataFrame"
   ]
  },
  {
   "cell_type": "code",
   "execution_count": 6,
   "id": "temporal-photograph",
   "metadata": {
    "execution": {
     "iopub.execute_input": "2021-04-04T11:20:41.206925Z",
     "iopub.status.busy": "2021-04-04T11:20:41.205980Z",
     "iopub.status.idle": "2021-04-04T11:20:41.209742Z",
     "shell.execute_reply": "2021-04-04T11:20:41.210288Z"
    },
    "papermill": {
     "duration": 0.039565,
     "end_time": "2021-04-04T11:20:41.210469",
     "exception": false,
     "start_time": "2021-04-04T11:20:41.170904",
     "status": "completed"
    },
    "tags": []
   },
   "outputs": [
    {
     "data": {
      "text/plain": [
       "(45211, 17)"
      ]
     },
     "execution_count": 6,
     "metadata": {},
     "output_type": "execute_result"
    }
   ],
   "source": [
    "bank.shape"
   ]
  },
  {
   "cell_type": "code",
   "execution_count": 7,
   "id": "silent-illustration",
   "metadata": {
    "execution": {
     "iopub.execute_input": "2021-04-04T11:20:41.276017Z",
     "iopub.status.busy": "2021-04-04T11:20:41.275035Z",
     "iopub.status.idle": "2021-04-04T11:20:41.286971Z",
     "shell.execute_reply": "2021-04-04T11:20:41.287564Z"
    },
    "papermill": {
     "duration": 0.046266,
     "end_time": "2021-04-04T11:20:41.287739",
     "exception": false,
     "start_time": "2021-04-04T11:20:41.241473",
     "status": "completed"
    },
    "tags": []
   },
   "outputs": [
    {
     "data": {
      "text/plain": [
       "no     39922\n",
       "yes     5289\n",
       "Name: deposit, dtype: int64"
      ]
     },
     "execution_count": 7,
     "metadata": {},
     "output_type": "execute_result"
    }
   ],
   "source": [
    "bank['deposit'].value_counts()"
   ]
  },
  {
   "cell_type": "code",
   "execution_count": 8,
   "id": "metropolitan-postcard",
   "metadata": {
    "execution": {
     "iopub.execute_input": "2021-04-04T11:20:41.353916Z",
     "iopub.status.busy": "2021-04-04T11:20:41.352892Z",
     "iopub.status.idle": "2021-04-04T11:20:41.383405Z",
     "shell.execute_reply": "2021-04-04T11:20:41.382860Z"
    },
    "papermill": {
     "duration": 0.065693,
     "end_time": "2021-04-04T11:20:41.383563",
     "exception": false,
     "start_time": "2021-04-04T11:20:41.317870",
     "status": "completed"
    },
    "tags": []
   },
   "outputs": [
    {
     "data": {
      "text/plain": [
       "no     88.3\n",
       "yes    11.7\n",
       "Name: deposit, dtype: float64"
      ]
     },
     "execution_count": 8,
     "metadata": {},
     "output_type": "execute_result"
    }
   ],
   "source": [
    "# Conversion of previous line to percentage \n",
    "round(bank['deposit'].value_counts(normalize=True) *100,2)\n"
   ]
  },
  {
   "cell_type": "code",
   "execution_count": 9,
   "id": "theoretical-spiritual",
   "metadata": {
    "execution": {
     "iopub.execute_input": "2021-04-04T11:20:41.481002Z",
     "iopub.status.busy": "2021-04-04T11:20:41.479936Z",
     "iopub.status.idle": "2021-04-04T11:20:41.484049Z",
     "shell.execute_reply": "2021-04-04T11:20:41.484919Z"
    },
    "papermill": {
     "duration": 0.061477,
     "end_time": "2021-04-04T11:20:41.485198",
     "exception": false,
     "start_time": "2021-04-04T11:20:41.423721",
     "status": "completed"
    },
    "tags": []
   },
   "outputs": [],
   "source": [
    "#Above output shows that data is highly imbalanced.\n",
    "#Now, Have a look on some visualizations to understand more about data"
   ]
  },
  {
   "cell_type": "code",
   "execution_count": 10,
   "id": "loved-station",
   "metadata": {
    "execution": {
     "iopub.execute_input": "2021-04-04T11:20:41.580997Z",
     "iopub.status.busy": "2021-04-04T11:20:41.579923Z",
     "iopub.status.idle": "2021-04-04T11:20:41.766328Z",
     "shell.execute_reply": "2021-04-04T11:20:41.765413Z"
    },
    "papermill": {
     "duration": 0.241954,
     "end_time": "2021-04-04T11:20:41.766519",
     "exception": false,
     "start_time": "2021-04-04T11:20:41.524565",
     "status": "completed"
    },
    "tags": []
   },
   "outputs": [
    {
     "data": {
      "text/plain": [
       "<Axes: xlabel='deposit', ylabel='count'>"
      ]
     },
     "execution_count": 10,
     "metadata": {},
     "output_type": "execute_result"
    },
    {
     "data": {
      "image/png": "[encoded data removed]",
      "text/plain": [
       "<Figure size 640x480 with 1 Axes>"
      ]
     },
     "metadata": {},
     "output_type": "display_data"
    }
   ],
   "source": [
    "sns.countplot(x='deposit',data =bank)"
   ]
  },
  {
   "cell_type": "code",
   "execution_count": 11,
   "id": "empirical-catalyst",
   "metadata": {
    "execution": {
     "iopub.execute_input": "2021-04-04T11:20:41.846816Z",
     "iopub.status.busy": "2021-04-04T11:20:41.844800Z",
     "iopub.status.idle": "2021-04-04T11:20:42.543781Z",
     "shell.execute_reply": "2021-04-04T11:20:42.544423Z"
    },
    "papermill": {
     "duration": 0.744443,
     "end_time": "2021-04-04T11:20:42.544682",
     "exception": false,
     "start_time": "2021-04-04T11:20:41.800239",
     "status": "completed"
    },
    "tags": []
   },
   "outputs": [
    {
     "data": {
      "text/plain": [
       "<Axes: xlabel='deposit', ylabel='balance'>"
      ]
     },
     "execution_count": 11,
     "metadata": {},
     "output_type": "execute_result"
    },
    {
     "data": {
      "image/png": "[encoded data removed]",
      "text/plain": [
       "<Figure size 640x480 with 1 Axes>"
      ]
     },
     "metadata": {},
     "output_type": "display_data"
    }
   ],
   "source": [
    "sns.barplot(x='deposit',y='balance',data=bank)"
   ]
  },
  {
   "cell_type": "code",
   "execution_count": 12,
   "id": "annual-opera",
   "metadata": {
    "execution": {
     "iopub.execute_input": "2021-04-04T11:20:42.619644Z",
     "iopub.status.busy": "2021-04-04T11:20:42.618866Z",
     "iopub.status.idle": "2021-04-04T11:20:43.124608Z",
     "shell.execute_reply": "2021-04-04T11:20:43.124011Z"
    },
    "papermill": {
     "duration": 0.545987,
     "end_time": "2021-04-04T11:20:43.124792",
     "exception": false,
     "start_time": "2021-04-04T11:20:42.578805",
     "status": "completed"
    },
    "tags": []
   },
   "outputs": [
    {
     "data": {
      "text/plain": [
       "<Axes: xlabel='campaign', ylabel='count'>"
      ]
     },
     "execution_count": 12,
     "metadata": {},
     "output_type": "execute_result"
    },
    {
     "data": {
      "image/png": "[encoded data removed]",
      "text/plain": [
       "<Figure size 640x480 with 1 Axes>"
      ]
     },
     "metadata": {},
     "output_type": "display_data"
    }
   ],
   "source": [
    "sns.countplot(x='campaign',data=bank)\n",
    "#Following graph shows that as number of campaigns increases number of participants decreases"
   ]
  },
  {
   "cell_type": "code",
   "execution_count": 13,
   "id": "narrow-childhood",
   "metadata": {
    "execution": {
     "iopub.execute_input": "2021-04-04T11:20:43.206530Z",
     "iopub.status.busy": "2021-04-04T11:20:43.205490Z",
     "iopub.status.idle": "2021-04-04T11:20:43.892367Z",
     "shell.execute_reply": "2021-04-04T11:20:43.891790Z"
    },
    "papermill": {
     "duration": 0.733254,
     "end_time": "2021-04-04T11:20:43.892533",
     "exception": false,
     "start_time": "2021-04-04T11:20:43.159279",
     "status": "completed"
    },
    "tags": []
   },
   "outputs": [
    {
     "data": {
      "text/plain": [
       "<Axes: xlabel='deposit', ylabel='previous'>"
      ]
     },
     "execution_count": 13,
     "metadata": {},
     "output_type": "execute_result"
    },
    {
     "data": {
      "image/png": "[encoded data removed]",
      "text/plain": [
       "<Figure size 640x480 with 1 Axes>"
      ]
     },
     "metadata": {},
     "output_type": "display_data"
    }
   ],
   "source": [
    "#Relationship between previous campaigns and the deposit column\n",
    "sns.barplot(x='deposit',y='previous',data=bank)"
   ]
  },
  {
   "cell_type": "code",
   "execution_count": 14,
   "id": "greater-fever",
   "metadata": {
    "execution": {
     "iopub.execute_input": "2021-04-04T11:20:43.972492Z",
     "iopub.status.busy": "2021-04-04T11:20:43.971433Z",
     "iopub.status.idle": "2021-04-04T11:20:44.474065Z",
     "shell.execute_reply": "2021-04-04T11:20:44.473503Z"
    },
    "papermill": {
     "duration": 0.544371,
     "end_time": "2021-04-04T11:20:44.474206",
     "exception": false,
     "start_time": "2021-04-04T11:20:43.929835",
     "status": "completed"
    },
    "tags": []
   },
   "outputs": [
    {
     "data": {
      "image/png": "[encoded data removed]",
      "text/plain": [
       "<Figure size 640x480 with 1 Axes>"
      ]
     },
     "metadata": {},
     "output_type": "display_data"
    }
   ],
   "source": [
    "#Let us see distribution of balance of the customers\n",
    "sns.distplot(bank['balance']);"
   ]
  },
  {
   "cell_type": "code",
   "execution_count": 15,
   "id": "faced-receptor",
   "metadata": {
    "execution": {
     "iopub.execute_input": "2021-04-04T11:20:44.554852Z",
     "iopub.status.busy": "2021-04-04T11:20:44.553816Z",
     "iopub.status.idle": "2021-04-04T11:20:44.558607Z",
     "shell.execute_reply": "2021-04-04T11:20:44.558085Z"
    },
    "papermill": {
     "duration": 0.047781,
     "end_time": "2021-04-04T11:20:44.558777",
     "exception": false,
     "start_time": "2021-04-04T11:20:44.510996",
     "status": "completed"
    },
    "tags": []
   },
   "outputs": [
    {
     "data": {
      "text/plain": [
       "['age',\n",
       " 'job',\n",
       " 'marital',\n",
       " 'education',\n",
       " 'default',\n",
       " 'balance',\n",
       " 'housing',\n",
       " 'loan',\n",
       " 'contact',\n",
       " 'day',\n",
       " 'month',\n",
       " 'duration',\n",
       " 'campaign',\n",
       " 'pdays',\n",
       " 'previous',\n",
       " 'poutcome']"
      ]
     },
     "execution_count": 15,
     "metadata": {},
     "output_type": "execute_result"
    }
   ],
   "source": [
    "#Now we remove dependent column which we have to predict\n",
    "X_features = list(bank.columns)\n",
    "X_features.remove('deposit')\n",
    "X_features"
   ]
  },
  {
   "cell_type": "code",
   "execution_count": 16,
   "id": "injured-barcelona",
   "metadata": {
    "execution": {
     "iopub.execute_input": "2021-04-04T11:20:44.662640Z",
     "iopub.status.busy": "2021-04-04T11:20:44.661912Z",
     "iopub.status.idle": "2021-04-04T11:20:44.710972Z",
     "shell.execute_reply": "2021-04-04T11:20:44.710364Z"
    },
    "papermill": {
     "duration": 0.114025,
     "end_time": "2021-04-04T11:20:44.711131",
     "exception": false,
     "start_time": "2021-04-04T11:20:44.597106",
     "status": "completed"
    },
    "tags": []
   },
   "outputs": [],
   "source": [
    "#Converting all categorical values into one hot encodings\n",
    "encoded_bank_df = pd.get_dummies(bank[X_features],drop_first = True)"
   ]
  },
  {
   "cell_type": "code",
   "execution_count": 17,
   "id": "important-onion",
   "metadata": {
    "execution": {
     "iopub.execute_input": "2021-04-04T11:20:44.803684Z",
     "iopub.status.busy": "2021-04-04T11:20:44.798308Z",
     "iopub.status.idle": "2021-04-04T11:20:44.822134Z",
     "shell.execute_reply": "2021-04-04T11:20:44.822752Z"
    },
    "papermill": {
     "duration": 0.06816,
     "end_time": "2021-04-04T11:20:44.822972",
     "exception": false,
     "start_time": "2021-04-04T11:20:44.754812",
     "status": "completed"
    },
    "tags": []
   },
   "outputs": [],
   "source": [
    "#Converting dependent variable to 0 or 1\n",
    "Y=bank.deposit.map(lambda x: int(x== 'yes'))\n",
    "X=encoded_bank_df"
   ]
  },
  {
   "cell_type": "code",
   "execution_count": 18,
   "id": "through-sally",
   "metadata": {
    "execution": {
     "iopub.execute_input": "2021-04-04T11:20:44.903848Z",
     "iopub.status.busy": "2021-04-04T11:20:44.903032Z",
     "iopub.status.idle": "2021-04-04T11:20:45.958749Z",
     "shell.execute_reply": "2021-04-04T11:20:45.957511Z"
    },
    "papermill": {
     "duration": 1.097948,
     "end_time": "2021-04-04T11:20:45.958912",
     "exception": false,
     "start_time": "2021-04-04T11:20:44.860964",
     "status": "completed"
    },
    "tags": []
   },
   "outputs": [],
   "source": [
    "#Importing statsmodel package to perform Logistic Regression\n",
    "import statsmodels.api as sm"
   ]
  },
  {
   "cell_type": "code",
   "execution_count": 19,
   "id": "waiting-venture",
   "metadata": {
    "execution": {
     "iopub.execute_input": "2021-04-04T11:20:46.040085Z",
     "iopub.status.busy": "2021-04-04T11:20:46.039370Z",
     "iopub.status.idle": "2021-04-04T11:20:46.381575Z",
     "shell.execute_reply": "2021-04-04T11:20:46.382307Z"
    },
    "papermill": {
     "duration": 0.385817,
     "end_time": "2021-04-04T11:20:46.382609",
     "exception": false,
     "start_time": "2021-04-04T11:20:45.996792",
     "status": "completed"
    },
    "tags": []
   },
   "outputs": [
    {
     "name": "stdout",
     "output_type": "stream",
     "text": [
      "Optimization terminated successfully.\n",
      "         Current function value: 0.238463\n",
      "         Iterations 8\n"
     ]
    }
   ],
   "source": [
    "logit_model = sm.Logit(Y,sm.add_constant(X)).fit()"
   ]
  },
  {
   "cell_type": "code",
   "execution_count": 20,
   "id": "massive-joyce",
   "metadata": {
    "execution": {
     "iopub.execute_input": "2021-04-04T11:20:46.518915Z",
     "iopub.status.busy": "2021-04-04T11:20:46.517890Z",
     "iopub.status.idle": "2021-04-04T11:20:46.962522Z",
     "shell.execute_reply": "2021-04-04T11:20:46.963643Z"
    },
    "papermill": {
     "duration": 0.507199,
     "end_time": "2021-04-04T11:20:46.963947",
     "exception": false,
     "start_time": "2021-04-04T11:20:46.456748",
     "status": "completed"
    },
    "tags": []
   },
   "outputs": [
    {
     "data": {
      "text/html": [
       "<table class=\"simpletable\">\n",
       "<tr>\n",
       "        <td>Model:</td>              <td>Logit</td>           <td>Method:</td>          <td>MLE</td>   \n",
       "</tr>\n",
       "<tr>\n",
       "  <td>Dependent Variable:</td>      <td>deposit</td>     <td>Pseudo R-squared:</td>    <td>0.339</td>  \n",
       "</tr>\n",
       "<tr>\n",
       "         <td>Date:</td>        <td>2023-10-04 17:18</td>       <td>AIC:</td>        <td>21648.2702</td>\n",
       "</tr>\n",
       "<tr>\n",
       "   <td>No. Observations:</td>        <td>45211</td>            <td>BIC:</td>        <td>22023.1913</td>\n",
       "</tr>\n",
       "<tr>\n",
       "       <td>Df Model:</td>             <td>42</td>         <td>Log-Likelihood:</td>    <td>-10781.</td> \n",
       "</tr>\n",
       "<tr>\n",
       "     <td>Df Residuals:</td>          <td>45168</td>          <td>LL-Null:</td>        <td>-16315.</td> \n",
       "</tr>\n",
       "<tr>\n",
       "      <td>Converged:</td>           <td>1.0000</td>        <td>LLR p-value:</td>      <td>0.0000</td>  \n",
       "</tr>\n",
       "<tr>\n",
       "    <td>No. Iterations:</td>        <td>8.0000</td>           <td>Scale:</td>         <td>1.0000</td>  \n",
       "</tr>\n",
       "</table>\n",
       "<table class=\"simpletable\">\n",
       "<tr>\n",
       "           <td></td>            <th>Coef.</th>  <th>Std.Err.</th>     <th>z</th>     <th>P>|z|</th> <th>[0.025</th>  <th>0.975]</th> \n",
       "</tr>\n",
       "<tr>\n",
       "  <th>const</th>               <td>-2.5356</td>  <td>0.1837</td>  <td>-13.8028</td> <td>0.0000</td> <td>-2.8957</td> <td>-2.1756</td>\n",
       "</tr>\n",
       "<tr>\n",
       "  <th>age</th>                 <td>0.0001</td>   <td>0.0022</td>   <td>0.0511</td>  <td>0.9592</td> <td>-0.0042</td> <td>0.0044</td> \n",
       "</tr>\n",
       "<tr>\n",
       "  <th>balance</th>             <td>0.0000</td>   <td>0.0000</td>   <td>2.4934</td>  <td>0.0127</td> <td>0.0000</td>  <td>0.0000</td> \n",
       "</tr>\n",
       "<tr>\n",
       "  <th>day</th>                 <td>0.0100</td>   <td>0.0025</td>   <td>3.9929</td>  <td>0.0001</td> <td>0.0051</td>  <td>0.0149</td> \n",
       "</tr>\n",
       "<tr>\n",
       "  <th>duration</th>            <td>0.0042</td>   <td>0.0001</td>   <td>64.9852</td> <td>0.0000</td> <td>0.0041</td>  <td>0.0043</td> \n",
       "</tr>\n",
       "<tr>\n",
       "  <th>campaign</th>            <td>-0.0908</td>  <td>0.0101</td>   <td>-8.9551</td> <td>0.0000</td> <td>-0.1107</td> <td>-0.0709</td>\n",
       "</tr>\n",
       "<tr>\n",
       "  <th>pdays</th>               <td>-0.0001</td>  <td>0.0003</td>   <td>-0.3355</td> <td>0.7373</td> <td>-0.0007</td> <td>0.0005</td> \n",
       "</tr>\n",
       "<tr>\n",
       "  <th>previous</th>            <td>0.0102</td>   <td>0.0065</td>   <td>1.5612</td>  <td>0.1185</td> <td>-0.0026</td> <td>0.0229</td> \n",
       "</tr>\n",
       "<tr>\n",
       "  <th>job_blue-collar</th>     <td>-0.3099</td>  <td>0.0727</td>   <td>-4.2641</td> <td>0.0000</td> <td>-0.4523</td> <td>-0.1674</td>\n",
       "</tr>\n",
       "<tr>\n",
       "  <th>job_entrepreneur</th>    <td>-0.3571</td>  <td>0.1256</td>   <td>-2.8440</td> <td>0.0045</td> <td>-0.6032</td> <td>-0.1110</td>\n",
       "</tr>\n",
       "<tr>\n",
       "  <th>job_housemaid</th>       <td>-0.5040</td>  <td>0.1365</td>   <td>-3.6931</td> <td>0.0002</td> <td>-0.7715</td> <td>-0.2365</td>\n",
       "</tr>\n",
       "<tr>\n",
       "  <th>job_management</th>      <td>-0.1653</td>  <td>0.0733</td>   <td>-2.2550</td> <td>0.0241</td> <td>-0.3089</td> <td>-0.0216</td>\n",
       "</tr>\n",
       "<tr>\n",
       "  <th>job_retired</th>         <td>0.2524</td>   <td>0.0972</td>   <td>2.5958</td>  <td>0.0094</td> <td>0.0618</td>  <td>0.4429</td> \n",
       "</tr>\n",
       "<tr>\n",
       "  <th>job_self-employed</th>   <td>-0.2983</td>  <td>0.1120</td>   <td>-2.6638</td> <td>0.0077</td> <td>-0.5178</td> <td>-0.0788</td>\n",
       "</tr>\n",
       "<tr>\n",
       "  <th>job_services</th>        <td>-0.2238</td>  <td>0.0841</td>   <td>-2.6622</td> <td>0.0078</td> <td>-0.3886</td> <td>-0.0590</td>\n",
       "</tr>\n",
       "<tr>\n",
       "  <th>job_student</th>         <td>0.3821</td>   <td>0.1090</td>   <td>3.5049</td>  <td>0.0005</td> <td>0.1684</td>  <td>0.5958</td> \n",
       "</tr>\n",
       "<tr>\n",
       "  <th>job_technician</th>      <td>-0.1760</td>  <td>0.0689</td>   <td>-2.5535</td> <td>0.0107</td> <td>-0.3111</td> <td>-0.0409</td>\n",
       "</tr>\n",
       "<tr>\n",
       "  <th>job_unemployed</th>      <td>-0.1767</td>  <td>0.1116</td>   <td>-1.5828</td> <td>0.1135</td> <td>-0.3955</td> <td>0.0421</td> \n",
       "</tr>\n",
       "<tr>\n",
       "  <th>job_unknown</th>         <td>-0.3133</td>  <td>0.2335</td>   <td>-1.3418</td> <td>0.1797</td> <td>-0.7708</td> <td>0.1443</td> \n",
       "</tr>\n",
       "<tr>\n",
       "  <th>marital_married</th>     <td>-0.1795</td>  <td>0.0589</td>   <td>-3.0462</td> <td>0.0023</td> <td>-0.2949</td> <td>-0.0640</td>\n",
       "</tr>\n",
       "<tr>\n",
       "  <th>marital_single</th>      <td>0.0925</td>   <td>0.0673</td>   <td>1.3752</td>  <td>0.1691</td> <td>-0.0393</td> <td>0.2243</td> \n",
       "</tr>\n",
       "<tr>\n",
       "  <th>education_secondary</th> <td>0.1835</td>   <td>0.0648</td>   <td>2.8325</td>  <td>0.0046</td> <td>0.0565</td>  <td>0.3105</td> \n",
       "</tr>\n",
       "<tr>\n",
       "  <th>education_tertiary</th>  <td>0.3789</td>   <td>0.0753</td>   <td>5.0311</td>  <td>0.0000</td> <td>0.2313</td>  <td>0.5266</td> \n",
       "</tr>\n",
       "<tr>\n",
       "  <th>education_unknown</th>   <td>0.2505</td>   <td>0.1039</td>   <td>2.4108</td>  <td>0.0159</td> <td>0.0468</td>  <td>0.4541</td> \n",
       "</tr>\n",
       "<tr>\n",
       "  <th>default_yes</th>         <td>-0.0167</td>  <td>0.1628</td>   <td>-0.1024</td> <td>0.9184</td> <td>-0.3358</td> <td>0.3025</td> \n",
       "</tr>\n",
       "<tr>\n",
       "  <th>housing_yes</th>         <td>-0.6754</td>  <td>0.0439</td>  <td>-15.3953</td> <td>0.0000</td> <td>-0.7614</td> <td>-0.5894</td>\n",
       "</tr>\n",
       "<tr>\n",
       "  <th>loan_yes</th>            <td>-0.4254</td>  <td>0.0600</td>   <td>-7.0906</td> <td>0.0000</td> <td>-0.5430</td> <td>-0.3078</td>\n",
       "</tr>\n",
       "<tr>\n",
       "  <th>contact_telephone</th>   <td>-0.1634</td>  <td>0.0752</td>   <td>-2.1729</td> <td>0.0298</td> <td>-0.3107</td> <td>-0.0160</td>\n",
       "</tr>\n",
       "<tr>\n",
       "  <th>contact_unknown</th>     <td>-1.6232</td>  <td>0.0732</td>  <td>-22.1831</td> <td>0.0000</td> <td>-1.7666</td> <td>-1.4798</td>\n",
       "</tr>\n",
       "<tr>\n",
       "  <th>month_aug</th>           <td>-0.6939</td>  <td>0.0785</td>   <td>-8.8424</td> <td>0.0000</td> <td>-0.8477</td> <td>-0.5401</td>\n",
       "</tr>\n",
       "<tr>\n",
       "  <th>month_dec</th>           <td>0.6911</td>   <td>0.1767</td>   <td>3.9117</td>  <td>0.0001</td> <td>0.3448</td>  <td>1.0374</td> \n",
       "</tr>\n",
       "<tr>\n",
       "  <th>month_feb</th>           <td>-0.1473</td>  <td>0.0894</td>   <td>-1.6476</td> <td>0.0994</td> <td>-0.3226</td> <td>0.0279</td> \n",
       "</tr>\n",
       "<tr>\n",
       "  <th>month_jan</th>           <td>-1.2617</td>  <td>0.1217</td>  <td>-10.3672</td> <td>0.0000</td> <td>-1.5003</td> <td>-1.0232</td>\n",
       "</tr>\n",
       "<tr>\n",
       "  <th>month_jul</th>           <td>-0.8308</td>  <td>0.0774</td>  <td>-10.7331</td> <td>0.0000</td> <td>-0.9825</td> <td>-0.6791</td>\n",
       "</tr>\n",
       "<tr>\n",
       "  <th>month_jun</th>           <td>0.4536</td>   <td>0.0937</td>   <td>4.8428</td>  <td>0.0000</td> <td>0.2700</td>  <td>0.6372</td> \n",
       "</tr>\n",
       "<tr>\n",
       "  <th>month_mar</th>           <td>1.5899</td>   <td>0.1199</td>   <td>13.2652</td> <td>0.0000</td> <td>1.3550</td>  <td>1.8248</td> \n",
       "</tr>\n",
       "<tr>\n",
       "  <th>month_may</th>           <td>-0.3991</td>  <td>0.0723</td>   <td>-5.5213</td> <td>0.0000</td> <td>-0.5408</td> <td>-0.2574</td>\n",
       "</tr>\n",
       "<tr>\n",
       "  <th>month_nov</th>           <td>-0.8734</td>  <td>0.0844</td>  <td>-10.3471</td> <td>0.0000</td> <td>-1.0388</td> <td>-0.7080</td>\n",
       "</tr>\n",
       "<tr>\n",
       "  <th>month_oct</th>           <td>0.8814</td>   <td>0.1080</td>   <td>8.1591</td>  <td>0.0000</td> <td>0.6697</td>  <td>1.0932</td> \n",
       "</tr>\n",
       "<tr>\n",
       "  <th>month_sep</th>           <td>0.8741</td>   <td>0.1195</td>   <td>7.3144</td>  <td>0.0000</td> <td>0.6398</td>  <td>1.1083</td> \n",
       "</tr>\n",
       "<tr>\n",
       "  <th>poutcome_other</th>      <td>0.2035</td>   <td>0.0899</td>   <td>2.2645</td>  <td>0.0235</td> <td>0.0274</td>  <td>0.3796</td> \n",
       "</tr>\n",
       "<tr>\n",
       "  <th>poutcome_success</th>    <td>2.2911</td>   <td>0.0823</td>   <td>27.8212</td> <td>0.0000</td> <td>2.1297</td>  <td>2.4525</td> \n",
       "</tr>\n",
       "<tr>\n",
       "  <th>poutcome_unknown</th>    <td>-0.0918</td>  <td>0.0935</td>   <td>-0.9820</td> <td>0.3261</td> <td>-0.2750</td> <td>0.0914</td> \n",
       "</tr>\n",
       "</table><br/>\n"
      ],
      "text/latex": [
       "\\begin{table}\n",
       "\\caption{Results: Logit}\n",
       "\\label{}\n",
       "\\begin{center}\n",
       "\\begin{tabular}{llll}\n",
       "\\hline\n",
       "Model:              & Logit            & Method:           & MLE         \\\\\n",
       "Dependent Variable: & deposit          & Pseudo R-squared: & 0.339       \\\\\n",
       "Date:               & 2023-10-04 17:18 & AIC:              & 21648.2702  \\\\\n",
       "No. Observations:   & 45211            & BIC:              & 22023.1913  \\\\\n",
       "Df Model:           & 42               & Log-Likelihood:   & -10781.     \\\\\n",
       "Df Residuals:       & 45168            & LL-Null:          & -16315.     \\\\\n",
       "Converged:          & 1.0000           & LLR p-value:      & 0.0000      \\\\\n",
       "No. Iterations:     & 8.0000           & Scale:            & 1.0000      \\\\\n",
       "\\hline\n",
       "\\end{tabular}\n",
       "\\end{center}\n",
       "\n",
       "\\begin{center}\n",
       "\\begin{tabular}{lrrrrrr}\n",
       "\\hline\n",
       "                     &   Coef. & Std.Err. &        z & P$> |$z$|$ &  [0.025 &  0.975]  \\\\\n",
       "\\hline\n",
       "const                & -2.5356 &   0.1837 & -13.8028 &      0.0000 & -2.8957 & -2.1756  \\\\\n",
       "age                  &  0.0001 &   0.0022 &   0.0511 &      0.9592 & -0.0042 &  0.0044  \\\\\n",
       "balance              &  0.0000 &   0.0000 &   2.4934 &      0.0127 &  0.0000 &  0.0000  \\\\\n",
       "day                  &  0.0100 &   0.0025 &   3.9929 &      0.0001 &  0.0051 &  0.0149  \\\\\n",
       "duration             &  0.0042 &   0.0001 &  64.9852 &      0.0000 &  0.0041 &  0.0043  \\\\\n",
       "campaign             & -0.0908 &   0.0101 &  -8.9551 &      0.0000 & -0.1107 & -0.0709  \\\\\n",
       "pdays                & -0.0001 &   0.0003 &  -0.3355 &      0.7373 & -0.0007 &  0.0005  \\\\\n",
       "previous             &  0.0102 &   0.0065 &   1.5612 &      0.1185 & -0.0026 &  0.0229  \\\\\n",
       "job\\_blue-collar     & -0.3099 &   0.0727 &  -4.2641 &      0.0000 & -0.4523 & -0.1674  \\\\\n",
       "job\\_entrepreneur    & -0.3571 &   0.1256 &  -2.8440 &      0.0045 & -0.6032 & -0.1110  \\\\\n",
       "job\\_housemaid       & -0.5040 &   0.1365 &  -3.6931 &      0.0002 & -0.7715 & -0.2365  \\\\\n",
       "job\\_management      & -0.1653 &   0.0733 &  -2.2550 &      0.0241 & -0.3089 & -0.0216  \\\\\n",
       "job\\_retired         &  0.2524 &   0.0972 &   2.5958 &      0.0094 &  0.0618 &  0.4429  \\\\\n",
       "job\\_self-employed   & -0.2983 &   0.1120 &  -2.6638 &      0.0077 & -0.5178 & -0.0788  \\\\\n",
       "job\\_services        & -0.2238 &   0.0841 &  -2.6622 &      0.0078 & -0.3886 & -0.0590  \\\\\n",
       "job\\_student         &  0.3821 &   0.1090 &   3.5049 &      0.0005 &  0.1684 &  0.5958  \\\\\n",
       "job\\_technician      & -0.1760 &   0.0689 &  -2.5535 &      0.0107 & -0.3111 & -0.0409  \\\\\n",
       "job\\_unemployed      & -0.1767 &   0.1116 &  -1.5828 &      0.1135 & -0.3955 &  0.0421  \\\\\n",
       "job\\_unknown         & -0.3133 &   0.2335 &  -1.3418 &      0.1797 & -0.7708 &  0.1443  \\\\\n",
       "marital\\_married     & -0.1795 &   0.0589 &  -3.0462 &      0.0023 & -0.2949 & -0.0640  \\\\\n",
       "marital\\_single      &  0.0925 &   0.0673 &   1.3752 &      0.1691 & -0.0393 &  0.2243  \\\\\n",
       "education\\_secondary &  0.1835 &   0.0648 &   2.8325 &      0.0046 &  0.0565 &  0.3105  \\\\\n",
       "education\\_tertiary  &  0.3789 &   0.0753 &   5.0311 &      0.0000 &  0.2313 &  0.5266  \\\\\n",
       "education\\_unknown   &  0.2505 &   0.1039 &   2.4108 &      0.0159 &  0.0468 &  0.4541  \\\\\n",
       "default\\_yes         & -0.0167 &   0.1628 &  -0.1024 &      0.9184 & -0.3358 &  0.3025  \\\\\n",
       "housing\\_yes         & -0.6754 &   0.0439 & -15.3953 &      0.0000 & -0.7614 & -0.5894  \\\\\n",
       "loan\\_yes            & -0.4254 &   0.0600 &  -7.0906 &      0.0000 & -0.5430 & -0.3078  \\\\\n",
       "contact\\_telephone   & -0.1634 &   0.0752 &  -2.1729 &      0.0298 & -0.3107 & -0.0160  \\\\\n",
       "contact\\_unknown     & -1.6232 &   0.0732 & -22.1831 &      0.0000 & -1.7666 & -1.4798  \\\\\n",
       "month\\_aug           & -0.6939 &   0.0785 &  -8.8424 &      0.0000 & -0.8477 & -0.5401  \\\\\n",
       "month\\_dec           &  0.6911 &   0.1767 &   3.9117 &      0.0001 &  0.3448 &  1.0374  \\\\\n",
       "month\\_feb           & -0.1473 &   0.0894 &  -1.6476 &      0.0994 & -0.3226 &  0.0279  \\\\\n",
       "month\\_jan           & -1.2617 &   0.1217 & -10.3672 &      0.0000 & -1.5003 & -1.0232  \\\\\n",
       "month\\_jul           & -0.8308 &   0.0774 & -10.7331 &      0.0000 & -0.9825 & -0.6791  \\\\\n",
       "month\\_jun           &  0.4536 &   0.0937 &   4.8428 &      0.0000 &  0.2700 &  0.6372  \\\\\n",
       "month\\_mar           &  1.5899 &   0.1199 &  13.2652 &      0.0000 &  1.3550 &  1.8248  \\\\\n",
       "month\\_may           & -0.3991 &   0.0723 &  -5.5213 &      0.0000 & -0.5408 & -0.2574  \\\\\n",
       "month\\_nov           & -0.8734 &   0.0844 & -10.3471 &      0.0000 & -1.0388 & -0.7080  \\\\\n",
       "month\\_oct           &  0.8814 &   0.1080 &   8.1591 &      0.0000 &  0.6697 &  1.0932  \\\\\n",
       "month\\_sep           &  0.8741 &   0.1195 &   7.3144 &      0.0000 &  0.6398 &  1.1083  \\\\\n",
       "poutcome\\_other      &  0.2035 &   0.0899 &   2.2645 &      0.0235 &  0.0274 &  0.3796  \\\\\n",
       "poutcome\\_success    &  2.2911 &   0.0823 &  27.8212 &      0.0000 &  2.1297 &  2.4525  \\\\\n",
       "poutcome\\_unknown    & -0.0918 &   0.0935 &  -0.9820 &      0.3261 & -0.2750 &  0.0914  \\\\\n",
       "\\hline\n",
       "\\end{tabular}\n",
       "\\end{center}\n",
       "\\end{table}\n",
       "\\bigskip\n"
      ],
      "text/plain": [
       "<class 'statsmodels.iolib.summary2.Summary'>\n",
       "\"\"\"\n",
       "                           Results: Logit\n",
       "====================================================================\n",
       "Model:               Logit             Method:            MLE       \n",
       "Dependent Variable:  deposit           Pseudo R-squared:  0.339     \n",
       "Date:                2023-10-04 17:18  AIC:               21648.2702\n",
       "No. Observations:    45211             BIC:               22023.1913\n",
       "Df Model:            42                Log-Likelihood:    -10781.   \n",
       "Df Residuals:        45168             LL-Null:           -16315.   \n",
       "Converged:           1.0000            LLR p-value:       0.0000    \n",
       "No. Iterations:      8.0000            Scale:             1.0000    \n",
       "--------------------------------------------------------------------\n",
       "                     Coef.  Std.Err.    z     P>|z|   [0.025  0.975]\n",
       "--------------------------------------------------------------------\n",
       "const               -2.5356   0.1837 -13.8028 0.0000 -2.8957 -2.1756\n",
       "age                  0.0001   0.0022   0.0511 0.9592 -0.0042  0.0044\n",
       "balance              0.0000   0.0000   2.4934 0.0127  0.0000  0.0000\n",
       "day                  0.0100   0.0025   3.9929 0.0001  0.0051  0.0149\n",
       "duration             0.0042   0.0001  64.9852 0.0000  0.0041  0.0043\n",
       "campaign            -0.0908   0.0101  -8.9551 0.0000 -0.1107 -0.0709\n",
       "pdays               -0.0001   0.0003  -0.3355 0.7373 -0.0007  0.0005\n",
       "previous             0.0102   0.0065   1.5612 0.1185 -0.0026  0.0229\n",
       "job_blue-collar     -0.3099   0.0727  -4.2641 0.0000 -0.4523 -0.1674\n",
       "job_entrepreneur    -0.3571   0.1256  -2.8440 0.0045 -0.6032 -0.1110\n",
       "job_housemaid       -0.5040   0.1365  -3.6931 0.0002 -0.7715 -0.2365\n",
       "job_management      -0.1653   0.0733  -2.2550 0.0241 -0.3089 -0.0216\n",
       "job_retired          0.2524   0.0972   2.5958 0.0094  0.0618  0.4429\n",
       "job_self-employed   -0.2983   0.1120  -2.6638 0.0077 -0.5178 -0.0788\n",
       "job_services        -0.2238   0.0841  -2.6622 0.0078 -0.3886 -0.0590\n",
       "job_student          0.3821   0.1090   3.5049 0.0005  0.1684  0.5958\n",
       "job_technician      -0.1760   0.0689  -2.5535 0.0107 -0.3111 -0.0409\n",
       "job_unemployed      -0.1767   0.1116  -1.5828 0.1135 -0.3955  0.0421\n",
       "job_unknown         -0.3133   0.2335  -1.3418 0.1797 -0.7708  0.1443\n",
       "marital_married     -0.1795   0.0589  -3.0462 0.0023 -0.2949 -0.0640\n",
       "marital_single       0.0925   0.0673   1.3752 0.1691 -0.0393  0.2243\n",
       "education_secondary  0.1835   0.0648   2.8325 0.0046  0.0565  0.3105\n",
       "education_tertiary   0.3789   0.0753   5.0311 0.0000  0.2313  0.5266\n",
       "education_unknown    0.2505   0.1039   2.4108 0.0159  0.0468  0.4541\n",
       "default_yes         -0.0167   0.1628  -0.1024 0.9184 -0.3358  0.3025\n",
       "housing_yes         -0.6754   0.0439 -15.3953 0.0000 -0.7614 -0.5894\n",
       "loan_yes            -0.4254   0.0600  -7.0906 0.0000 -0.5430 -0.3078\n",
       "contact_telephone   -0.1634   0.0752  -2.1729 0.0298 -0.3107 -0.0160\n",
       "contact_unknown     -1.6232   0.0732 -22.1831 0.0000 -1.7666 -1.4798\n",
       "month_aug           -0.6939   0.0785  -8.8424 0.0000 -0.8477 -0.5401\n",
       "month_dec            0.6911   0.1767   3.9117 0.0001  0.3448  1.0374\n",
       "month_feb           -0.1473   0.0894  -1.6476 0.0994 -0.3226  0.0279\n",
       "month_jan           -1.2617   0.1217 -10.3672 0.0000 -1.5003 -1.0232\n",
       "month_jul           -0.8308   0.0774 -10.7331 0.0000 -0.9825 -0.6791\n",
       "month_jun            0.4536   0.0937   4.8428 0.0000  0.2700  0.6372\n",
       "month_mar            1.5899   0.1199  13.2652 0.0000  1.3550  1.8248\n",
       "month_may           -0.3991   0.0723  -5.5213 0.0000 -0.5408 -0.2574\n",
       "month_nov           -0.8734   0.0844 -10.3471 0.0000 -1.0388 -0.7080\n",
       "month_oct            0.8814   0.1080   8.1591 0.0000  0.6697  1.0932\n",
       "month_sep            0.8741   0.1195   7.3144 0.0000  0.6398  1.1083\n",
       "poutcome_other       0.2035   0.0899   2.2645 0.0235  0.0274  0.3796\n",
       "poutcome_success     2.2911   0.0823  27.8212 0.0000  2.1297  2.4525\n",
       "poutcome_unknown    -0.0918   0.0935  -0.9820 0.3261 -0.2750  0.0914\n",
       "====================================================================\n",
       "\n",
       "\"\"\""
      ]
     },
     "execution_count": 20,
     "metadata": {},
     "output_type": "execute_result"
    }
   ],
   "source": [
    "#Now,observe the output of model\n",
    "logit_model.summary2()"
   ]
  },
  {
   "cell_type": "code",
   "execution_count": 21,
   "id": "abstract-corporation",
   "metadata": {
    "execution": {
     "iopub.execute_input": "2021-04-04T11:20:47.046986Z",
     "iopub.status.busy": "2021-04-04T11:20:47.046320Z",
     "iopub.status.idle": "2021-04-04T11:20:47.051927Z",
     "shell.execute_reply": "2021-04-04T11:20:47.051257Z"
    },
    "papermill": {
     "duration": 0.049256,
     "end_time": "2021-04-04T11:20:47.052114",
     "exception": false,
     "start_time": "2021-04-04T11:20:47.002858",
     "status": "completed"
    },
    "tags": []
   },
   "outputs": [],
   "source": [
    "#In summary you can can notice that statsmodel give us more statistical values than sklearn"
   ]
  },
  {
   "cell_type": "code",
   "execution_count": 22,
   "id": "about-sheriff",
   "metadata": {
    "execution": {
     "iopub.execute_input": "2021-04-04T11:20:47.135364Z",
     "iopub.status.busy": "2021-04-04T11:20:47.134681Z",
     "iopub.status.idle": "2021-04-04T11:20:47.137677Z",
     "shell.execute_reply": "2021-04-04T11:20:47.137050Z"
    },
    "papermill": {
     "duration": 0.046378,
     "end_time": "2021-04-04T11:20:47.137810",
     "exception": false,
     "start_time": "2021-04-04T11:20:47.091432",
     "status": "completed"
    },
    "tags": []
   },
   "outputs": [],
   "source": [
    "#In summary p values shows that how much a variable has significance on perdiction\n",
    "#So we use all those variables which has more p value"
   ]
  },
  {
   "cell_type": "code",
   "execution_count": 23,
   "id": "canadian-testimony",
   "metadata": {
    "execution": {
     "iopub.execute_input": "2021-04-04T11:20:47.220063Z",
     "iopub.status.busy": "2021-04-04T11:20:47.219501Z",
     "iopub.status.idle": "2021-04-04T11:20:47.224849Z",
     "shell.execute_reply": "2021-04-04T11:20:47.224167Z"
    },
    "papermill": {
     "duration": 0.04747,
     "end_time": "2021-04-04T11:20:47.225020",
     "exception": false,
     "start_time": "2021-04-04T11:20:47.177550",
     "status": "completed"
    },
    "tags": []
   },
   "outputs": [],
   "source": [
    "X_features = ['previous',\n",
    "             'pdays',\n",
    "             'job_unknown',\n",
    "             'poutcome_unknown',\n",
    "             'default_yes',\n",
    "             'age']"
   ]
  },
  {
   "cell_type": "code",
   "execution_count": 24,
   "id": "drawn-assembly",
   "metadata": {
    "execution": {
     "iopub.execute_input": "2021-04-04T11:20:47.310852Z",
     "iopub.status.busy": "2021-04-04T11:20:47.310032Z",
     "iopub.status.idle": "2021-04-04T11:20:47.412956Z",
     "shell.execute_reply": "2021-04-04T11:20:47.414507Z"
    },
    "papermill": {
     "duration": 0.149844,
     "end_time": "2021-04-04T11:20:47.414972",
     "exception": false,
     "start_time": "2021-04-04T11:20:47.265128",
     "status": "completed"
    },
    "tags": []
   },
   "outputs": [
    {
     "name": "stdout",
     "output_type": "stream",
     "text": [
      "Optimization terminated successfully.\n",
      "         Current function value: 0.346355\n",
      "         Iterations 7\n"
     ]
    }
   ],
   "source": [
    "logit_model_2 = sm.Logit(Y,sm.add_constant( X[X_features])).fit()"
   ]
  },
  {
   "cell_type": "code",
   "execution_count": 25,
   "id": "smooth-secretariat",
   "metadata": {
    "execution": {
     "iopub.execute_input": "2021-04-04T11:20:47.555697Z",
     "iopub.status.busy": "2021-04-04T11:20:47.554547Z",
     "iopub.status.idle": "2021-04-04T11:20:47.939589Z",
     "shell.execute_reply": "2021-04-04T11:20:47.940555Z"
    },
    "papermill": {
     "duration": 0.444607,
     "end_time": "2021-04-04T11:20:47.940859",
     "exception": false,
     "start_time": "2021-04-04T11:20:47.496252",
     "status": "completed"
    },
    "tags": []
   },
   "outputs": [
    {
     "data": {
      "text/html": [
       "<table class=\"simpletable\">\n",
       "<tr>\n",
       "        <td>Model:</td>              <td>Logit</td>           <td>Method:</td>          <td>MLE</td>    \n",
       "</tr>\n",
       "<tr>\n",
       "  <td>Dependent Variable:</td>      <td>deposit</td>     <td>Pseudo R-squared:</td>    <td>0.040</td>   \n",
       "</tr>\n",
       "<tr>\n",
       "         <td>Date:</td>        <td>2023-10-04 17:18</td>       <td>AIC:</td>        <td>31332.1352</td> \n",
       "</tr>\n",
       "<tr>\n",
       "   <td>No. Observations:</td>        <td>45211</td>            <td>BIC:</td>        <td>31393.1689</td> \n",
       "</tr>\n",
       "<tr>\n",
       "       <td>Df Model:</td>              <td>6</td>         <td>Log-Likelihood:</td>    <td>-15659.</td>  \n",
       "</tr>\n",
       "<tr>\n",
       "     <td>Df Residuals:</td>          <td>45204</td>          <td>LL-Null:</td>        <td>-16315.</td>  \n",
       "</tr>\n",
       "<tr>\n",
       "      <td>Converged:</td>           <td>1.0000</td>        <td>LLR p-value:</td>    <td>1.8178e-280</td>\n",
       "</tr>\n",
       "<tr>\n",
       "    <td>No. Iterations:</td>        <td>7.0000</td>           <td>Scale:</td>         <td>1.0000</td>   \n",
       "</tr>\n",
       "</table>\n",
       "<table class=\"simpletable\">\n",
       "<tr>\n",
       "          <td></td>          <th>Coef.</th>  <th>Std.Err.</th>     <th>z</th>     <th>P>|z|</th> <th>[0.025</th>  <th>0.975]</th> \n",
       "</tr>\n",
       "<tr>\n",
       "  <th>const</th>            <td>-0.7445</td>  <td>0.0845</td>   <td>-8.8080</td> <td>0.0000</td> <td>-0.9101</td> <td>-0.5788</td>\n",
       "</tr>\n",
       "<tr>\n",
       "  <th>previous</th>         <td>0.0027</td>   <td>0.0055</td>   <td>0.4864</td>  <td>0.6267</td> <td>-0.0081</td> <td>0.0134</td> \n",
       "</tr>\n",
       "<tr>\n",
       "  <th>pdays</th>            <td>-0.0033</td>  <td>0.0003</td>  <td>-13.2844</td> <td>0.0000</td> <td>-0.0038</td> <td>-0.0028</td>\n",
       "</tr>\n",
       "<tr>\n",
       "  <th>job_unknown</th>      <td>0.0388</td>   <td>0.1866</td>   <td>0.2080</td>  <td>0.8353</td> <td>-0.3269</td> <td>0.4046</td> \n",
       "</tr>\n",
       "<tr>\n",
       "  <th>poutcome_unknown</th> <td>-1.7862</td>  <td>0.0629</td>  <td>-28.3953</td> <td>0.0000</td> <td>-1.9095</td> <td>-1.6630</td>\n",
       "</tr>\n",
       "<tr>\n",
       "  <th>default_yes</th>      <td>-0.4845</td>  <td>0.1448</td>   <td>-3.3456</td> <td>0.0008</td> <td>-0.7684</td> <td>-0.2007</td>\n",
       "</tr>\n",
       "<tr>\n",
       "  <th>age</th>              <td>0.0059</td>   <td>0.0014</td>   <td>4.3092</td>  <td>0.0000</td> <td>0.0032</td>  <td>0.0085</td> \n",
       "</tr>\n",
       "</table><br/>\n"
      ],
      "text/latex": [
       "\\begin{table}\n",
       "\\caption{Results: Logit}\n",
       "\\label{}\n",
       "\\begin{center}\n",
       "\\begin{tabular}{llll}\n",
       "\\hline\n",
       "Model:              & Logit            & Method:           & MLE          \\\\\n",
       "Dependent Variable: & deposit          & Pseudo R-squared: & 0.040        \\\\\n",
       "Date:               & 2023-10-04 17:18 & AIC:              & 31332.1352   \\\\\n",
       "No. Observations:   & 45211            & BIC:              & 31393.1689   \\\\\n",
       "Df Model:           & 6                & Log-Likelihood:   & -15659.      \\\\\n",
       "Df Residuals:       & 45204            & LL-Null:          & -16315.      \\\\\n",
       "Converged:          & 1.0000           & LLR p-value:      & 1.8178e-280  \\\\\n",
       "No. Iterations:     & 7.0000           & Scale:            & 1.0000       \\\\\n",
       "\\hline\n",
       "\\end{tabular}\n",
       "\\end{center}\n",
       "\n",
       "\\begin{center}\n",
       "\\begin{tabular}{lrrrrrr}\n",
       "\\hline\n",
       "                  &   Coef. & Std.Err. &        z & P$> |$z$|$ &  [0.025 &  0.975]  \\\\\n",
       "\\hline\n",
       "const             & -0.7445 &   0.0845 &  -8.8080 &      0.0000 & -0.9101 & -0.5788  \\\\\n",
       "previous          &  0.0027 &   0.0055 &   0.4864 &      0.6267 & -0.0081 &  0.0134  \\\\\n",
       "pdays             & -0.0033 &   0.0003 & -13.2844 &      0.0000 & -0.0038 & -0.0028  \\\\\n",
       "job\\_unknown      &  0.0388 &   0.1866 &   0.2080 &      0.8353 & -0.3269 &  0.4046  \\\\\n",
       "poutcome\\_unknown & -1.7862 &   0.0629 & -28.3953 &      0.0000 & -1.9095 & -1.6630  \\\\\n",
       "default\\_yes      & -0.4845 &   0.1448 &  -3.3456 &      0.0008 & -0.7684 & -0.2007  \\\\\n",
       "age               &  0.0059 &   0.0014 &   4.3092 &      0.0000 &  0.0032 &  0.0085  \\\\\n",
       "\\hline\n",
       "\\end{tabular}\n",
       "\\end{center}\n",
       "\\end{table}\n",
       "\\bigskip\n"
      ],
      "text/plain": [
       "<class 'statsmodels.iolib.summary2.Summary'>\n",
       "\"\"\"\n",
       "                          Results: Logit\n",
       "==================================================================\n",
       "Model:              Logit            Method:           MLE        \n",
       "Dependent Variable: deposit          Pseudo R-squared: 0.040      \n",
       "Date:               2023-10-04 17:18 AIC:              31332.1352 \n",
       "No. Observations:   45211            BIC:              31393.1689 \n",
       "Df Model:           6                Log-Likelihood:   -15659.    \n",
       "Df Residuals:       45204            LL-Null:          -16315.    \n",
       "Converged:          1.0000           LLR p-value:      1.8178e-280\n",
       "No. Iterations:     7.0000           Scale:            1.0000     \n",
       "------------------------------------------------------------------\n",
       "                   Coef.  Std.Err.    z     P>|z|   [0.025  0.975]\n",
       "------------------------------------------------------------------\n",
       "const             -0.7445   0.0845  -8.8080 0.0000 -0.9101 -0.5788\n",
       "previous           0.0027   0.0055   0.4864 0.6267 -0.0081  0.0134\n",
       "pdays             -0.0033   0.0003 -13.2844 0.0000 -0.0038 -0.0028\n",
       "job_unknown        0.0388   0.1866   0.2080 0.8353 -0.3269  0.4046\n",
       "poutcome_unknown  -1.7862   0.0629 -28.3953 0.0000 -1.9095 -1.6630\n",
       "default_yes       -0.4845   0.1448  -3.3456 0.0008 -0.7684 -0.2007\n",
       "age                0.0059   0.0014   4.3092 0.0000  0.0032  0.0085\n",
       "==================================================================\n",
       "\n",
       "\"\"\""
      ]
     },
     "execution_count": 25,
     "metadata": {},
     "output_type": "execute_result"
    }
   ],
   "source": [
    "logit_model_2.summary2()"
   ]
  },
  {
   "cell_type": "code",
   "execution_count": 26,
   "id": "physical-kitty",
   "metadata": {
    "execution": {
     "iopub.execute_input": "2021-04-04T11:20:48.061752Z",
     "iopub.status.busy": "2021-04-04T11:20:48.061044Z",
     "iopub.status.idle": "2021-04-04T11:20:48.075536Z",
     "shell.execute_reply": "2021-04-04T11:20:48.076591Z"
    },
    "papermill": {
     "duration": 0.064397,
     "end_time": "2021-04-04T11:20:48.076899",
     "exception": false,
     "start_time": "2021-04-04T11:20:48.012502",
     "status": "completed"
    },
    "tags": []
   },
   "outputs": [],
   "source": [
    "y_pred_df = pd.DataFrame({'actual':Y,'predicted_prob':logit_model_2.predict(sm.add_constant(X[X_features]))})"
   ]
  },
  {
   "cell_type": "code",
   "execution_count": 27,
   "id": "familiar-robertson",
   "metadata": {
    "execution": {
     "iopub.execute_input": "2021-04-04T11:20:48.224858Z",
     "iopub.status.busy": "2021-04-04T11:20:48.218118Z",
     "iopub.status.idle": "2021-04-04T11:20:48.229957Z",
     "shell.execute_reply": "2021-04-04T11:20:48.229402Z"
    },
    "papermill": {
     "duration": 0.068878,
     "end_time": "2021-04-04T11:20:48.230112",
     "exception": false,
     "start_time": "2021-04-04T11:20:48.161234",
     "status": "completed"
    },
    "tags": []
   },
   "outputs": [
    {
     "data": {
      "text/html": [
       "<div>\n",
       "<style scoped>\n",
       "    .dataframe tbody tr th:only-of-type {\n",
       "        vertical-align: middle;\n",
       "    }\n",
       "\n",
       "    .dataframe tbody tr th {\n",
       "        vertical-align: top;\n",
       "    }\n",
       "\n",
       "    .dataframe thead th {\n",
       "        text-align: right;\n",
       "    }\n",
       "</style>\n",
       "<table border=\"1\" class=\"dataframe\">\n",
       "  <thead>\n",
       "    <tr style=\"text-align: right;\">\n",
       "      <th></th>\n",
       "      <th>actual</th>\n",
       "      <th>predicted_prob</th>\n",
       "    </tr>\n",
       "  </thead>\n",
       "  <tbody>\n",
       "    <tr>\n",
       "      <th>0</th>\n",
       "      <td>0</td>\n",
       "      <td>0.100859</td>\n",
       "    </tr>\n",
       "    <tr>\n",
       "      <th>1</th>\n",
       "      <td>0</td>\n",
       "      <td>0.093663</td>\n",
       "    </tr>\n",
       "    <tr>\n",
       "      <th>2</th>\n",
       "      <td>0</td>\n",
       "      <td>0.088336</td>\n",
       "    </tr>\n",
       "    <tr>\n",
       "      <th>3</th>\n",
       "      <td>0</td>\n",
       "      <td>0.095165</td>\n",
       "    </tr>\n",
       "    <tr>\n",
       "      <th>4</th>\n",
       "      <td>0</td>\n",
       "      <td>0.091512</td>\n",
       "    </tr>\n",
       "    <tr>\n",
       "      <th>...</th>\n",
       "      <td>...</td>\n",
       "      <td>...</td>\n",
       "    </tr>\n",
       "    <tr>\n",
       "      <th>45206</th>\n",
       "      <td>1</td>\n",
       "      <td>0.097202</td>\n",
       "    </tr>\n",
       "    <tr>\n",
       "      <th>45207</th>\n",
       "      <td>1</td>\n",
       "      <td>0.107976</td>\n",
       "    </tr>\n",
       "    <tr>\n",
       "      <th>45208</th>\n",
       "      <td>1</td>\n",
       "      <td>0.283424</td>\n",
       "    </tr>\n",
       "    <tr>\n",
       "      <th>45209</th>\n",
       "      <td>0</td>\n",
       "      <td>0.100329</td>\n",
       "    </tr>\n",
       "    <tr>\n",
       "      <th>45210</th>\n",
       "      <td>0</td>\n",
       "      <td>0.245183</td>\n",
       "    </tr>\n",
       "  </tbody>\n",
       "</table>\n",
       "<p>45211 rows × 2 columns</p>\n",
       "</div>"
      ],
      "text/plain": [
       "       actual  predicted_prob\n",
       "0           0        0.100859\n",
       "1           0        0.093663\n",
       "2           0        0.088336\n",
       "3           0        0.095165\n",
       "4           0        0.091512\n",
       "...       ...             ...\n",
       "45206       1        0.097202\n",
       "45207       1        0.107976\n",
       "45208       1        0.283424\n",
       "45209       0        0.100329\n",
       "45210       0        0.245183\n",
       "\n",
       "[45211 rows x 2 columns]"
      ]
     },
     "execution_count": 27,
     "metadata": {},
     "output_type": "execute_result"
    }
   ],
   "source": [
    "y_pred_df"
   ]
  },
  {
   "cell_type": "code",
   "execution_count": 28,
   "id": "international-climate",
   "metadata": {
    "execution": {
     "iopub.execute_input": "2021-04-04T11:20:48.319923Z",
     "iopub.status.busy": "2021-04-04T11:20:48.319298Z",
     "iopub.status.idle": "2021-04-04T11:20:48.343327Z",
     "shell.execute_reply": "2021-04-04T11:20:48.344299Z"
    },
    "papermill": {
     "duration": 0.072802,
     "end_time": "2021-04-04T11:20:48.344619",
     "exception": false,
     "start_time": "2021-04-04T11:20:48.271817",
     "status": "completed"
    },
    "tags": []
   },
   "outputs": [],
   "source": [
    "#Now sort predicted probabilities  in  descending order\n",
    "import pandas as pd\n",
    "y_pred_df = pd.DataFrame({'actual':Y,'predicted_prob':logit_model_2.predict(sm.add_constant(X[X_features]))})\n",
    "sorted_predict_df = y_pred_df[['predicted_prob',\n",
    "                               'actual']].sort_values('predicted_prob',\n",
    "                                                                       ascending = False)"
   ]
  },
  {
   "cell_type": "code",
   "execution_count": 29,
   "id": "academic-plymouth",
   "metadata": {
    "execution": {
     "iopub.execute_input": "2021-04-04T11:20:48.487977Z",
     "iopub.status.busy": "2021-04-04T11:20:48.486824Z",
     "iopub.status.idle": "2021-04-04T11:20:48.491661Z",
     "shell.execute_reply": "2021-04-04T11:20:48.491045Z"
    },
    "papermill": {
     "duration": 0.064906,
     "end_time": "2021-04-04T11:20:48.491832",
     "exception": false,
     "start_time": "2021-04-04T11:20:48.426926",
     "status": "completed"
    },
    "tags": []
   },
   "outputs": [
    {
     "data": {
      "text/html": [
       "<div>\n",
       "<style scoped>\n",
       "    .dataframe tbody tr th:only-of-type {\n",
       "        vertical-align: middle;\n",
       "    }\n",
       "\n",
       "    .dataframe tbody tr th {\n",
       "        vertical-align: top;\n",
       "    }\n",
       "\n",
       "    .dataframe thead th {\n",
       "        text-align: right;\n",
       "    }\n",
       "</style>\n",
       "<table border=\"1\" class=\"dataframe\">\n",
       "  <thead>\n",
       "    <tr style=\"text-align: right;\">\n",
       "      <th></th>\n",
       "      <th>predicted_prob</th>\n",
       "      <th>actual</th>\n",
       "    </tr>\n",
       "  </thead>\n",
       "  <tbody>\n",
       "    <tr>\n",
       "      <th>44420</th>\n",
       "      <td>0.445446</td>\n",
       "      <td>1</td>\n",
       "    </tr>\n",
       "    <tr>\n",
       "      <th>44410</th>\n",
       "      <td>0.429720</td>\n",
       "      <td>0</td>\n",
       "    </tr>\n",
       "    <tr>\n",
       "      <th>44403</th>\n",
       "      <td>0.418028</td>\n",
       "      <td>1</td>\n",
       "    </tr>\n",
       "    <tr>\n",
       "      <th>44401</th>\n",
       "      <td>0.410151</td>\n",
       "      <td>1</td>\n",
       "    </tr>\n",
       "    <tr>\n",
       "      <th>44421</th>\n",
       "      <td>0.406676</td>\n",
       "      <td>0</td>\n",
       "    </tr>\n",
       "    <tr>\n",
       "      <th>...</th>\n",
       "      <td>...</td>\n",
       "      <td>...</td>\n",
       "    </tr>\n",
       "    <tr>\n",
       "      <th>44858</th>\n",
       "      <td>0.033434</td>\n",
       "      <td>1</td>\n",
       "    </tr>\n",
       "    <tr>\n",
       "      <th>44837</th>\n",
       "      <td>0.033416</td>\n",
       "      <td>0</td>\n",
       "    </tr>\n",
       "    <tr>\n",
       "      <th>44829</th>\n",
       "      <td>0.033364</td>\n",
       "      <td>1</td>\n",
       "    </tr>\n",
       "    <tr>\n",
       "      <th>43978</th>\n",
       "      <td>0.023316</td>\n",
       "      <td>0</td>\n",
       "    </tr>\n",
       "    <tr>\n",
       "      <th>45021</th>\n",
       "      <td>0.017063</td>\n",
       "      <td>0</td>\n",
       "    </tr>\n",
       "  </tbody>\n",
       "</table>\n",
       "<p>45211 rows × 2 columns</p>\n",
       "</div>"
      ],
      "text/plain": [
       "       predicted_prob  actual\n",
       "44420        0.445446       1\n",
       "44410        0.429720       0\n",
       "44403        0.418028       1\n",
       "44401        0.410151       1\n",
       "44421        0.406676       0\n",
       "...               ...     ...\n",
       "44858        0.033434       1\n",
       "44837        0.033416       0\n",
       "44829        0.033364       1\n",
       "43978        0.023316       0\n",
       "45021        0.017063       0\n",
       "\n",
       "[45211 rows x 2 columns]"
      ]
     },
     "execution_count": 29,
     "metadata": {},
     "output_type": "execute_result"
    }
   ],
   "source": [
    "sorted_predict_df "
   ]
  },
  {
   "cell_type": "code",
   "execution_count": 30,
   "id": "global-pledge",
   "metadata": {
    "execution": {
     "iopub.execute_input": "2021-04-04T11:20:48.582254Z",
     "iopub.status.busy": "2021-04-04T11:20:48.581110Z",
     "iopub.status.idle": "2021-04-04T11:20:48.588340Z",
     "shell.execute_reply": "2021-04-04T11:20:48.587760Z"
    },
    "papermill": {
     "duration": 0.053816,
     "end_time": "2021-04-04T11:20:48.588506",
     "exception": false,
     "start_time": "2021-04-04T11:20:48.534690",
     "status": "completed"
    },
    "tags": []
   },
   "outputs": [
    {
     "name": "stdout",
     "output_type": "stream",
     "text": [
      "Number of observation per decile:  4521\n"
     ]
    }
   ],
   "source": [
    "num_per_decile = int(len(sorted_predict_df)/10)\n",
    "print(\"Number of observation per decile: \",num_per_decile)"
   ]
  },
  {
   "cell_type": "code",
   "execution_count": 31,
   "id": "roman-fossil",
   "metadata": {
    "execution": {
     "iopub.execute_input": "2021-04-04T11:20:48.676535Z",
     "iopub.status.busy": "2021-04-04T11:20:48.675788Z",
     "iopub.status.idle": "2021-04-04T11:20:48.682283Z",
     "shell.execute_reply": "2021-04-04T11:20:48.681732Z"
    },
    "papermill": {
     "duration": 0.051802,
     "end_time": "2021-04-04T11:20:48.682481",
     "exception": false,
     "start_time": "2021-04-04T11:20:48.630679",
     "status": "completed"
    },
    "tags": []
   },
   "outputs": [],
   "source": [
    "#Function to get decile(split data into ten equal parts)\n",
    "def get_deciles(df):\n",
    "    df['decile']=1\n",
    "    idx = 0\n",
    "    for each_d in range(0,10):\n",
    "        df.iloc[idx:idx+num_per_decile,df.columns.get_loc('decile')]= each_d\n",
    "        idx += num_per_decile\n",
    "    df['decile'] = df['decile']+1\n",
    "    return df"
   ]
  },
  {
   "cell_type": "code",
   "execution_count": 32,
   "id": "exempt-classroom",
   "metadata": {
    "execution": {
     "iopub.execute_input": "2021-04-04T11:20:48.773947Z",
     "iopub.status.busy": "2021-04-04T11:20:48.773240Z",
     "iopub.status.idle": "2021-04-04T11:20:48.782990Z",
     "shell.execute_reply": "2021-04-04T11:20:48.782256Z"
    },
    "papermill": {
     "duration": 0.058639,
     "end_time": "2021-04-04T11:20:48.783150",
     "exception": false,
     "start_time": "2021-04-04T11:20:48.724511",
     "status": "completed"
    },
    "tags": []
   },
   "outputs": [],
   "source": [
    "deciles_predict_df = get_deciles(sorted_predict_df)"
   ]
  },
  {
   "cell_type": "code",
   "execution_count": 33,
   "id": "coastal-trace",
   "metadata": {
    "execution": {
     "iopub.execute_input": "2021-04-04T11:20:48.881953Z",
     "iopub.status.busy": "2021-04-04T11:20:48.880918Z",
     "iopub.status.idle": "2021-04-04T11:20:48.887404Z",
     "shell.execute_reply": "2021-04-04T11:20:48.886558Z"
    },
    "papermill": {
     "duration": 0.061532,
     "end_time": "2021-04-04T11:20:48.887625",
     "exception": false,
     "start_time": "2021-04-04T11:20:48.826093",
     "status": "completed"
    },
    "tags": []
   },
   "outputs": [
    {
     "data": {
      "text/html": [
       "<div>\n",
       "<style scoped>\n",
       "    .dataframe tbody tr th:only-of-type {\n",
       "        vertical-align: middle;\n",
       "    }\n",
       "\n",
       "    .dataframe tbody tr th {\n",
       "        vertical-align: top;\n",
       "    }\n",
       "\n",
       "    .dataframe thead th {\n",
       "        text-align: right;\n",
       "    }\n",
       "</style>\n",
       "<table border=\"1\" class=\"dataframe\">\n",
       "  <thead>\n",
       "    <tr style=\"text-align: right;\">\n",
       "      <th></th>\n",
       "      <th>predicted_prob</th>\n",
       "      <th>actual</th>\n",
       "      <th>decile</th>\n",
       "    </tr>\n",
       "  </thead>\n",
       "  <tbody>\n",
       "    <tr>\n",
       "      <th>44420</th>\n",
       "      <td>0.445446</td>\n",
       "      <td>1</td>\n",
       "      <td>1</td>\n",
       "    </tr>\n",
       "    <tr>\n",
       "      <th>44410</th>\n",
       "      <td>0.429720</td>\n",
       "      <td>0</td>\n",
       "      <td>1</td>\n",
       "    </tr>\n",
       "    <tr>\n",
       "      <th>44403</th>\n",
       "      <td>0.418028</td>\n",
       "      <td>1</td>\n",
       "      <td>1</td>\n",
       "    </tr>\n",
       "    <tr>\n",
       "      <th>44401</th>\n",
       "      <td>0.410151</td>\n",
       "      <td>1</td>\n",
       "      <td>1</td>\n",
       "    </tr>\n",
       "    <tr>\n",
       "      <th>44421</th>\n",
       "      <td>0.406676</td>\n",
       "      <td>0</td>\n",
       "      <td>1</td>\n",
       "    </tr>\n",
       "    <tr>\n",
       "      <th>...</th>\n",
       "      <td>...</td>\n",
       "      <td>...</td>\n",
       "      <td>...</td>\n",
       "    </tr>\n",
       "    <tr>\n",
       "      <th>44858</th>\n",
       "      <td>0.033434</td>\n",
       "      <td>1</td>\n",
       "      <td>10</td>\n",
       "    </tr>\n",
       "    <tr>\n",
       "      <th>44837</th>\n",
       "      <td>0.033416</td>\n",
       "      <td>0</td>\n",
       "      <td>10</td>\n",
       "    </tr>\n",
       "    <tr>\n",
       "      <th>44829</th>\n",
       "      <td>0.033364</td>\n",
       "      <td>1</td>\n",
       "      <td>10</td>\n",
       "    </tr>\n",
       "    <tr>\n",
       "      <th>43978</th>\n",
       "      <td>0.023316</td>\n",
       "      <td>0</td>\n",
       "      <td>10</td>\n",
       "    </tr>\n",
       "    <tr>\n",
       "      <th>45021</th>\n",
       "      <td>0.017063</td>\n",
       "      <td>0</td>\n",
       "      <td>2</td>\n",
       "    </tr>\n",
       "  </tbody>\n",
       "</table>\n",
       "<p>45211 rows × 3 columns</p>\n",
       "</div>"
      ],
      "text/plain": [
       "       predicted_prob  actual  decile\n",
       "44420        0.445446       1       1\n",
       "44410        0.429720       0       1\n",
       "44403        0.418028       1       1\n",
       "44401        0.410151       1       1\n",
       "44421        0.406676       0       1\n",
       "...               ...     ...     ...\n",
       "44858        0.033434       1      10\n",
       "44837        0.033416       0      10\n",
       "44829        0.033364       1      10\n",
       "43978        0.023316       0      10\n",
       "45021        0.017063       0       2\n",
       "\n",
       "[45211 rows x 3 columns]"
      ]
     },
     "execution_count": 33,
     "metadata": {},
     "output_type": "execute_result"
    }
   ],
   "source": [
    "deciles_predict_df"
   ]
  },
  {
   "cell_type": "code",
   "execution_count": 34,
   "id": "behind-assumption",
   "metadata": {
    "execution": {
     "iopub.execute_input": "2021-04-04T11:20:48.984458Z",
     "iopub.status.busy": "2021-04-04T11:20:48.983350Z",
     "iopub.status.idle": "2021-04-04T11:20:48.991136Z",
     "shell.execute_reply": "2021-04-04T11:20:48.990524Z"
    },
    "papermill": {
     "duration": 0.05869,
     "end_time": "2021-04-04T11:20:48.991287",
     "exception": false,
     "start_time": "2021-04-04T11:20:48.932597",
     "status": "completed"
    },
    "tags": []
   },
   "outputs": [],
   "source": [
    "gain_lift_df= pd.DataFrame(deciles_predict_df.groupby('decile')['actual'].sum()).reset_index()\n",
    "gain_lift_df.columns = ['decile','gain']"
   ]
  },
  {
   "cell_type": "code",
   "execution_count": 35,
   "id": "accessory-boutique",
   "metadata": {
    "execution": {
     "iopub.execute_input": "2021-04-04T11:20:49.090467Z",
     "iopub.status.busy": "2021-04-04T11:20:49.089387Z",
     "iopub.status.idle": "2021-04-04T11:20:49.094248Z",
     "shell.execute_reply": "2021-04-04T11:20:49.093641Z"
    },
    "papermill": {
     "duration": 0.057669,
     "end_time": "2021-04-04T11:20:49.094391",
     "exception": false,
     "start_time": "2021-04-04T11:20:49.036722",
     "status": "completed"
    },
    "tags": []
   },
   "outputs": [
    {
     "data": {
      "text/html": [
       "<div>\n",
       "<style scoped>\n",
       "    .dataframe tbody tr th:only-of-type {\n",
       "        vertical-align: middle;\n",
       "    }\n",
       "\n",
       "    .dataframe tbody tr th {\n",
       "        vertical-align: top;\n",
       "    }\n",
       "\n",
       "    .dataframe thead th {\n",
       "        text-align: right;\n",
       "    }\n",
       "</style>\n",
       "<table border=\"1\" class=\"dataframe\">\n",
       "  <thead>\n",
       "    <tr style=\"text-align: right;\">\n",
       "      <th></th>\n",
       "      <th>decile</th>\n",
       "      <th>gain</th>\n",
       "    </tr>\n",
       "  </thead>\n",
       "  <tbody>\n",
       "    <tr>\n",
       "      <th>0</th>\n",
       "      <td>1</td>\n",
       "      <td>1401</td>\n",
       "    </tr>\n",
       "    <tr>\n",
       "      <th>1</th>\n",
       "      <td>2</td>\n",
       "      <td>755</td>\n",
       "    </tr>\n",
       "    <tr>\n",
       "      <th>2</th>\n",
       "      <td>3</td>\n",
       "      <td>356</td>\n",
       "    </tr>\n",
       "    <tr>\n",
       "      <th>3</th>\n",
       "      <td>4</td>\n",
       "      <td>318</td>\n",
       "    </tr>\n",
       "    <tr>\n",
       "      <th>4</th>\n",
       "      <td>5</td>\n",
       "      <td>327</td>\n",
       "    </tr>\n",
       "    <tr>\n",
       "      <th>5</th>\n",
       "      <td>6</td>\n",
       "      <td>331</td>\n",
       "    </tr>\n",
       "    <tr>\n",
       "      <th>6</th>\n",
       "      <td>7</td>\n",
       "      <td>344</td>\n",
       "    </tr>\n",
       "    <tr>\n",
       "      <th>7</th>\n",
       "      <td>8</td>\n",
       "      <td>406</td>\n",
       "    </tr>\n",
       "    <tr>\n",
       "      <th>8</th>\n",
       "      <td>9</td>\n",
       "      <td>423</td>\n",
       "    </tr>\n",
       "    <tr>\n",
       "      <th>9</th>\n",
       "      <td>10</td>\n",
       "      <td>628</td>\n",
       "    </tr>\n",
       "  </tbody>\n",
       "</table>\n",
       "</div>"
      ],
      "text/plain": [
       "   decile  gain\n",
       "0       1  1401\n",
       "1       2   755\n",
       "2       3   356\n",
       "3       4   318\n",
       "4       5   327\n",
       "5       6   331\n",
       "6       7   344\n",
       "7       8   406\n",
       "8       9   423\n",
       "9      10   628"
      ]
     },
     "execution_count": 35,
     "metadata": {},
     "output_type": "execute_result"
    }
   ],
   "source": [
    "gain_lift_df"
   ]
  },
  {
   "cell_type": "code",
   "execution_count": 36,
   "id": "inner-wallpaper",
   "metadata": {
    "execution": {
     "iopub.execute_input": "2021-04-04T11:20:49.190900Z",
     "iopub.status.busy": "2021-04-04T11:20:49.190187Z",
     "iopub.status.idle": "2021-04-04T11:20:49.194105Z",
     "shell.execute_reply": "2021-04-04T11:20:49.193411Z"
    },
    "papermill": {
     "duration": 0.057459,
     "end_time": "2021-04-04T11:20:49.194240",
     "exception": false,
     "start_time": "2021-04-04T11:20:49.136781",
     "status": "completed"
    },
    "tags": []
   },
   "outputs": [
    {
     "data": {
      "text/html": [
       "<div>\n",
       "<style scoped>\n",
       "    .dataframe tbody tr th:only-of-type {\n",
       "        vertical-align: middle;\n",
       "    }\n",
       "\n",
       "    .dataframe tbody tr th {\n",
       "        vertical-align: top;\n",
       "    }\n",
       "\n",
       "    .dataframe thead th {\n",
       "        text-align: right;\n",
       "    }\n",
       "</style>\n",
       "<table border=\"1\" class=\"dataframe\">\n",
       "  <thead>\n",
       "    <tr style=\"text-align: right;\">\n",
       "      <th></th>\n",
       "      <th>decile</th>\n",
       "      <th>gain</th>\n",
       "      <th>gain_percentage</th>\n",
       "    </tr>\n",
       "  </thead>\n",
       "  <tbody>\n",
       "    <tr>\n",
       "      <th>0</th>\n",
       "      <td>1</td>\n",
       "      <td>1401</td>\n",
       "      <td>26.488939</td>\n",
       "    </tr>\n",
       "    <tr>\n",
       "      <th>1</th>\n",
       "      <td>2</td>\n",
       "      <td>755</td>\n",
       "      <td>40.763849</td>\n",
       "    </tr>\n",
       "    <tr>\n",
       "      <th>2</th>\n",
       "      <td>3</td>\n",
       "      <td>356</td>\n",
       "      <td>47.494801</td>\n",
       "    </tr>\n",
       "    <tr>\n",
       "      <th>3</th>\n",
       "      <td>4</td>\n",
       "      <td>318</td>\n",
       "      <td>53.507279</td>\n",
       "    </tr>\n",
       "    <tr>\n",
       "      <th>4</th>\n",
       "      <td>5</td>\n",
       "      <td>327</td>\n",
       "      <td>59.689922</td>\n",
       "    </tr>\n",
       "    <tr>\n",
       "      <th>5</th>\n",
       "      <td>6</td>\n",
       "      <td>331</td>\n",
       "      <td>65.948194</td>\n",
       "    </tr>\n",
       "    <tr>\n",
       "      <th>6</th>\n",
       "      <td>7</td>\n",
       "      <td>344</td>\n",
       "      <td>72.452259</td>\n",
       "    </tr>\n",
       "    <tr>\n",
       "      <th>7</th>\n",
       "      <td>8</td>\n",
       "      <td>406</td>\n",
       "      <td>80.128569</td>\n",
       "    </tr>\n",
       "    <tr>\n",
       "      <th>8</th>\n",
       "      <td>9</td>\n",
       "      <td>423</td>\n",
       "      <td>88.126300</td>\n",
       "    </tr>\n",
       "    <tr>\n",
       "      <th>9</th>\n",
       "      <td>10</td>\n",
       "      <td>628</td>\n",
       "      <td>100.000000</td>\n",
       "    </tr>\n",
       "  </tbody>\n",
       "</table>\n",
       "</div>"
      ],
      "text/plain": [
       "   decile  gain  gain_percentage\n",
       "0       1  1401        26.488939\n",
       "1       2   755        40.763849\n",
       "2       3   356        47.494801\n",
       "3       4   318        53.507279\n",
       "4       5   327        59.689922\n",
       "5       6   331        65.948194\n",
       "6       7   344        72.452259\n",
       "7       8   406        80.128569\n",
       "8       9   423        88.126300\n",
       "9      10   628       100.000000"
      ]
     },
     "execution_count": 36,
     "metadata": {},
     "output_type": "execute_result"
    }
   ],
   "source": [
    "gain_lift_df['gain_percentage']=(100 * gain_lift_df.gain.cumsum()/gain_lift_df.gain.sum())\n",
    "gain_lift_df"
   ]
  },
  {
   "cell_type": "code",
   "execution_count": 37,
   "id": "pretty-cabin",
   "metadata": {
    "execution": {
     "iopub.execute_input": "2021-04-04T11:20:49.286659Z",
     "iopub.status.busy": "2021-04-04T11:20:49.285895Z",
     "iopub.status.idle": "2021-04-04T11:20:49.287871Z",
     "shell.execute_reply": "2021-04-04T11:20:49.288324Z"
    },
    "papermill": {
     "duration": 0.051446,
     "end_time": "2021-04-04T11:20:49.288540",
     "exception": false,
     "start_time": "2021-04-04T11:20:49.237094",
     "status": "completed"
    },
    "tags": []
   },
   "outputs": [],
   "source": [
    "#Above you notice that more than 70% subscribers are found in first seven deciles"
   ]
  },
  {
   "cell_type": "code",
   "execution_count": 38,
   "id": "forbidden-hostel",
   "metadata": {
    "execution": {
     "iopub.execute_input": "2021-04-04T11:20:49.378999Z",
     "iopub.status.busy": "2021-04-04T11:20:49.378334Z",
     "iopub.status.idle": "2021-04-04T11:20:49.515618Z",
     "shell.execute_reply": "2021-04-04T11:20:49.516147Z"
    },
    "papermill": {
     "duration": 0.18398,
     "end_time": "2021-04-04T11:20:49.516330",
     "exception": false,
     "start_time": "2021-04-04T11:20:49.332350",
     "status": "completed"
    },
    "tags": []
   },
   "outputs": [
    {
     "data": {
      "image/png": "[encoded data removed]",
      "text/plain": [
       "<Figure size 800x400 with 1 Axes>"
      ]
     },
     "metadata": {},
     "output_type": "display_data"
    }
   ],
   "source": [
    "plt.figure(figsize = (8,4))\n",
    "plt.plot(gain_lift_df['decile'],gain_lift_df['gain_percentage'],'-')\n",
    "plt.show()"
   ]
  },
  {
   "cell_type": "code",
   "execution_count": 39,
   "id": "furnished-titanium",
   "metadata": {
    "execution": {
     "iopub.execute_input": "2021-04-04T11:20:49.612599Z",
     "iopub.status.busy": "2021-04-04T11:20:49.611791Z",
     "iopub.status.idle": "2021-04-04T11:20:49.623641Z",
     "shell.execute_reply": "2021-04-04T11:20:49.624169Z"
    },
    "papermill": {
     "duration": 0.062057,
     "end_time": "2021-04-04T11:20:49.624350",
     "exception": false,
     "start_time": "2021-04-04T11:20:49.562293",
     "status": "completed"
    },
    "tags": []
   },
   "outputs": [
    {
     "data": {
      "text/html": [
       "<div>\n",
       "<style scoped>\n",
       "    .dataframe tbody tr th:only-of-type {\n",
       "        vertical-align: middle;\n",
       "    }\n",
       "\n",
       "    .dataframe tbody tr th {\n",
       "        vertical-align: top;\n",
       "    }\n",
       "\n",
       "    .dataframe thead th {\n",
       "        text-align: right;\n",
       "    }\n",
       "</style>\n",
       "<table border=\"1\" class=\"dataframe\">\n",
       "  <thead>\n",
       "    <tr style=\"text-align: right;\">\n",
       "      <th></th>\n",
       "      <th>decile</th>\n",
       "      <th>gain</th>\n",
       "      <th>gain_percentage</th>\n",
       "      <th>lift</th>\n",
       "    </tr>\n",
       "  </thead>\n",
       "  <tbody>\n",
       "    <tr>\n",
       "      <th>0</th>\n",
       "      <td>1</td>\n",
       "      <td>1401</td>\n",
       "      <td>26.488939</td>\n",
       "      <td>2.648894</td>\n",
       "    </tr>\n",
       "    <tr>\n",
       "      <th>1</th>\n",
       "      <td>2</td>\n",
       "      <td>755</td>\n",
       "      <td>40.763849</td>\n",
       "      <td>2.038192</td>\n",
       "    </tr>\n",
       "    <tr>\n",
       "      <th>2</th>\n",
       "      <td>3</td>\n",
       "      <td>356</td>\n",
       "      <td>47.494801</td>\n",
       "      <td>1.583160</td>\n",
       "    </tr>\n",
       "    <tr>\n",
       "      <th>3</th>\n",
       "      <td>4</td>\n",
       "      <td>318</td>\n",
       "      <td>53.507279</td>\n",
       "      <td>1.337682</td>\n",
       "    </tr>\n",
       "    <tr>\n",
       "      <th>4</th>\n",
       "      <td>5</td>\n",
       "      <td>327</td>\n",
       "      <td>59.689922</td>\n",
       "      <td>1.193798</td>\n",
       "    </tr>\n",
       "    <tr>\n",
       "      <th>5</th>\n",
       "      <td>6</td>\n",
       "      <td>331</td>\n",
       "      <td>65.948194</td>\n",
       "      <td>1.099137</td>\n",
       "    </tr>\n",
       "    <tr>\n",
       "      <th>6</th>\n",
       "      <td>7</td>\n",
       "      <td>344</td>\n",
       "      <td>72.452259</td>\n",
       "      <td>1.035032</td>\n",
       "    </tr>\n",
       "    <tr>\n",
       "      <th>7</th>\n",
       "      <td>8</td>\n",
       "      <td>406</td>\n",
       "      <td>80.128569</td>\n",
       "      <td>1.001607</td>\n",
       "    </tr>\n",
       "    <tr>\n",
       "      <th>8</th>\n",
       "      <td>9</td>\n",
       "      <td>423</td>\n",
       "      <td>88.126300</td>\n",
       "      <td>0.979181</td>\n",
       "    </tr>\n",
       "    <tr>\n",
       "      <th>9</th>\n",
       "      <td>10</td>\n",
       "      <td>628</td>\n",
       "      <td>100.000000</td>\n",
       "      <td>1.000000</td>\n",
       "    </tr>\n",
       "  </tbody>\n",
       "</table>\n",
       "</div>"
      ],
      "text/plain": [
       "   decile  gain  gain_percentage      lift\n",
       "0       1  1401        26.488939  2.648894\n",
       "1       2   755        40.763849  2.038192\n",
       "2       3   356        47.494801  1.583160\n",
       "3       4   318        53.507279  1.337682\n",
       "4       5   327        59.689922  1.193798\n",
       "5       6   331        65.948194  1.099137\n",
       "6       7   344        72.452259  1.035032\n",
       "7       8   406        80.128569  1.001607\n",
       "8       9   423        88.126300  0.979181\n",
       "9      10   628       100.000000  1.000000"
      ]
     },
     "execution_count": 39,
     "metadata": {},
     "output_type": "execute_result"
    }
   ],
   "source": [
    "#Now,calculate lift to see how good deciles are\n",
    "gain_lift_df['lift']= (gain_lift_df.gain_percentage/(gain_lift_df.decile * 10))\n",
    "gain_lift_df"
   ]
  },
  {
   "cell_type": "code",
   "execution_count": 40,
   "id": "instant-pencil",
   "metadata": {
    "execution": {
     "iopub.execute_input": "2021-04-04T11:20:49.722668Z",
     "iopub.status.busy": "2021-04-04T11:20:49.721838Z",
     "iopub.status.idle": "2021-04-04T11:20:49.853070Z",
     "shell.execute_reply": "2021-04-04T11:20:49.853763Z"
    },
    "papermill": {
     "duration": 0.182197,
     "end_time": "2021-04-04T11:20:49.853986",
     "exception": false,
     "start_time": "2021-04-04T11:20:49.671789",
     "status": "completed"
    },
    "tags": []
   },
   "outputs": [
    {
     "data": {
      "image/png": "[encoded data removed]",
      "text/plain": [
       "<Figure size 800x400 with 1 Axes>"
      ]
     },
     "metadata": {},
     "output_type": "display_data"
    }
   ],
   "source": [
    "plt.figure(figsize=(8,4))\n",
    "plt.plot(gain_lift_df['decile'],gain_lift_df['lift'],'-')\n",
    "plt.show()"
   ]
  },
  {
   "cell_type": "code",
   "execution_count": 41,
   "id": "spiritual-socket",
   "metadata": {
    "execution": {
     "iopub.execute_input": "2021-04-04T11:20:49.950319Z",
     "iopub.status.busy": "2021-04-04T11:20:49.949668Z",
     "iopub.status.idle": "2021-04-04T11:20:49.954418Z",
     "shell.execute_reply": "2021-04-04T11:20:49.953901Z"
    },
    "papermill": {
     "duration": 0.054329,
     "end_time": "2021-04-04T11:20:49.954615",
     "exception": false,
     "start_time": "2021-04-04T11:20:49.900286",
     "status": "completed"
    },
    "tags": []
   },
   "outputs": [],
   "source": [
    "#Developing model using Logistic Regression SKLearn Package"
   ]
  },
  {
   "cell_type": "code",
   "execution_count": 42,
   "id": "diagnostic-monte",
   "metadata": {
    "execution": {
     "iopub.execute_input": "2021-04-04T11:20:50.054510Z",
     "iopub.status.busy": "2021-04-04T11:20:50.053680Z",
     "iopub.status.idle": "2021-04-04T11:20:50.311578Z",
     "shell.execute_reply": "2021-04-04T11:20:50.310849Z"
    },
    "papermill": {
     "duration": 0.31074,
     "end_time": "2021-04-04T11:20:50.311742",
     "exception": false,
     "start_time": "2021-04-04T11:20:50.001002",
     "status": "completed"
    },
    "tags": []
   },
   "outputs": [],
   "source": [
    "from sklearn.linear_model import LogisticRegression"
   ]
  },
  {
   "cell_type": "code",
   "execution_count": 43,
   "id": "difficult-objective",
   "metadata": {
    "execution": {
     "iopub.execute_input": "2021-04-04T11:20:50.412690Z",
     "iopub.status.busy": "2021-04-04T11:20:50.411384Z",
     "iopub.status.idle": "2021-04-04T11:20:51.828916Z",
     "shell.execute_reply": "2021-04-04T11:20:51.829799Z"
    },
    "papermill": {
     "duration": 1.472118,
     "end_time": "2021-04-04T11:20:51.830079",
     "exception": false,
     "start_time": "2021-04-04T11:20:50.357961",
     "status": "completed"
    },
    "tags": []
   },
   "outputs": [
    {
     "data": {
      "text/html": [
       "<style>#sk-container-id-1 {color: black;}#sk-container-id-1 pre{padding: 0;}#sk-container-id-1 div.sk-toggleable {background-color: white;}#sk-container-id-1 label.sk-toggleable__label {cursor: pointer;display: block;width: 100%;margin-bottom: 0;padding: 0.3em;box-sizing: border-box;text-align: center;}#sk-container-id-1 label.sk-toggleable__label-arrow:before {content: \"▸\";float: left;margin-right: 0.25em;color: #696969;}#sk-container-id-1 label.sk-toggleable__label-arrow:hover:before {color: black;}#sk-container-id-1 div.sk-estimator:hover label.sk-toggleable__label-arrow:before {color: black;}#sk-container-id-1 div.sk-toggleable__content {max-height: 0;max-width: 0;overflow: hidden;text-align: left;background-color: #f0f8ff;}#sk-container-id-1 div.sk-toggleable__content pre {margin: 0.2em;color: black;border-radius: 0.25em;background-color: #f0f8ff;}#sk-container-id-1 input.sk-toggleable__control:checked~div.sk-toggleable__content {max-height: 200px;max-width: 100%;overflow: auto;}#sk-container-id-1 input.sk-toggleable__control:checked~label.sk-toggleable__label-arrow:before {content: \"▾\";}#sk-container-id-1 div.sk-estimator input.sk-toggleable__control:checked~label.sk-toggleable__label {background-color: #d4ebff;}#sk-container-id-1 div.sk-label input.sk-toggleable__control:checked~label.sk-toggleable__label {background-color: #d4ebff;}#sk-container-id-1 input.sk-hidden--visually {border: 0;clip: rect(1px 1px 1px 1px);clip: rect(1px, 1px, 1px, 1px);height: 1px;margin: -1px;overflow: hidden;padding: 0;position: absolute;width: 1px;}#sk-container-id-1 div.sk-estimator {font-family: monospace;background-color: #f0f8ff;border: 1px dotted black;border-radius: 0.25em;box-sizing: border-box;margin-bottom: 0.5em;}#sk-container-id-1 div.sk-estimator:hover {background-color: #d4ebff;}#sk-container-id-1 div.sk-parallel-item::after {content: \"\";width: 100%;border-bottom: 1px solid gray;flex-grow: 1;}#sk-container-id-1 div.sk-label:hover label.sk-toggleable__label {background-color: #d4ebff;}#sk-container-id-1 div.sk-serial::before {content: \"\";position: absolute;border-left: 1px solid gray;box-sizing: border-box;top: 0;bottom: 0;left: 50%;z-index: 0;}#sk-container-id-1 div.sk-serial {display: flex;flex-direction: column;align-items: center;background-color: white;padding-right: 0.2em;padding-left: 0.2em;position: relative;}#sk-container-id-1 div.sk-item {position: relative;z-index: 1;}#sk-container-id-1 div.sk-parallel {display: flex;align-items: stretch;justify-content: center;background-color: white;position: relative;}#sk-container-id-1 div.sk-item::before, #sk-container-id-1 div.sk-parallel-item::before {content: \"\";position: absolute;border-left: 1px solid gray;box-sizing: border-box;top: 0;bottom: 0;left: 50%;z-index: -1;}#sk-container-id-1 div.sk-parallel-item {display: flex;flex-direction: column;z-index: 1;position: relative;background-color: white;}#sk-container-id-1 div.sk-parallel-item:first-child::after {align-self: flex-end;width: 50%;}#sk-container-id-1 div.sk-parallel-item:last-child::after {align-self: flex-start;width: 50%;}#sk-container-id-1 div.sk-parallel-item:only-child::after {width: 0;}#sk-container-id-1 div.sk-dashed-wrapped {border: 1px dashed gray;margin: 0 0.4em 0.5em 0.4em;box-sizing: border-box;padding-bottom: 0.4em;background-color: white;}#sk-container-id-1 div.sk-label label {font-family: monospace;font-weight: bold;display: inline-block;line-height: 1.2em;}#sk-container-id-1 div.sk-label-container {text-align: center;}#sk-container-id-1 div.sk-container {/* jupyter's `normalize.less` sets `[hidden] { display: none; }` but bootstrap.min.css set `[hidden] { display: none !important; }` so we also need the `!important` here to be able to override the default hidden behavior on the sphinx rendered scikit-learn.org. See: https://github.com/scikit-learn/scikit-learn/issues/21755 */display: inline-block !important;position: relative;}#sk-container-id-1 div.sk-text-repr-fallback {display: none;}</style><div id=\"sk-container-id-1\" class=\"sk-top-container\"><div class=\"sk-text-repr-fallback\"><pre>LogisticRegression()</pre><b>In a Jupyter environment, please rerun this cell to show the HTML representation or trust the notebook. <br />On GitHub, the HTML representation is unable to render, please try loading this page with nbviewer.org.</b></div><div class=\"sk-container\" hidden><div class=\"sk-item\"><div class=\"sk-estimator sk-toggleable\"><input class=\"sk-toggleable__control sk-hidden--visually\" id=\"sk-estimator-id-1\" type=\"checkbox\" checked><label for=\"sk-estimator-id-1\" class=\"sk-toggleable__label sk-toggleable__label-arrow\">LogisticRegression</label><div class=\"sk-toggleable__content\"><pre>LogisticRegression()</pre></div></div></div></div></div>"
      ],
      "text/plain": [
       "LogisticRegression()"
      ]
     },
     "execution_count": 43,
     "metadata": {},
     "output_type": "execute_result"
    }
   ],
   "source": [
    "logit = LogisticRegression()\n",
    "#Fitting model with X and Y values of dataset\n",
    "logit.fit(X,Y)"
   ]
  },
  {
   "cell_type": "code",
   "execution_count": 44,
   "id": "specified-crime",
   "metadata": {
    "execution": {
     "iopub.execute_input": "2021-04-04T11:20:51.983068Z",
     "iopub.status.busy": "2021-04-04T11:20:51.981850Z",
     "iopub.status.idle": "2021-04-04T11:20:52.003210Z",
     "shell.execute_reply": "2021-04-04T11:20:52.004112Z"
    },
    "papermill": {
     "duration": 0.080613,
     "end_time": "2021-04-04T11:20:52.004379",
     "exception": false,
     "start_time": "2021-04-04T11:20:51.923766",
     "status": "completed"
    },
    "tags": []
   },
   "outputs": [],
   "source": [
    "pred_y = logit.predict_proba(X)"
   ]
  },
  {
   "cell_type": "code",
   "execution_count": 45,
   "id": "studied-bidding",
   "metadata": {
    "execution": {
     "iopub.execute_input": "2021-04-04T11:20:52.163994Z",
     "iopub.status.busy": "2021-04-04T11:20:52.162885Z",
     "iopub.status.idle": "2021-04-04T11:20:52.168423Z",
     "shell.execute_reply": "2021-04-04T11:20:52.168987Z"
    },
    "papermill": {
     "duration": 0.067432,
     "end_time": "2021-04-04T11:20:52.169214",
     "exception": false,
     "start_time": "2021-04-04T11:20:52.101782",
     "status": "completed"
    },
    "tags": []
   },
   "outputs": [
    {
     "data": {
      "text/plain": [
       "array([[0.953342  , 0.046658  ],\n",
       "       [0.97377568, 0.02622432],\n",
       "       [0.98052306, 0.01947694],\n",
       "       ...,\n",
       "       [0.33231645, 0.66768355],\n",
       "       [0.9223958 , 0.0776042 ],\n",
       "       [0.87058397, 0.12941603]])"
      ]
     },
     "execution_count": 45,
     "metadata": {},
     "output_type": "execute_result"
    }
   ],
   "source": [
    "pred_y"
   ]
  },
  {
   "cell_type": "code",
   "execution_count": 46,
   "id": "nervous-death",
   "metadata": {
    "execution": {
     "iopub.execute_input": "2021-04-04T11:20:52.267486Z",
     "iopub.status.busy": "2021-04-04T11:20:52.266433Z",
     "iopub.status.idle": "2021-04-04T11:20:52.273643Z",
     "shell.execute_reply": "2021-04-04T11:20:52.273060Z"
    },
    "papermill": {
     "duration": 0.057674,
     "end_time": "2021-04-04T11:20:52.273798",
     "exception": false,
     "start_time": "2021-04-04T11:20:52.216124",
     "status": "completed"
    },
    "tags": []
   },
   "outputs": [
    {
     "data": {
      "text/plain": [
       "numpy.ndarray"
      ]
     },
     "execution_count": 46,
     "metadata": {},
     "output_type": "execute_result"
    }
   ],
   "source": [
    "type(pred_y)"
   ]
  },
  {
   "cell_type": "code",
   "execution_count": 47,
   "id": "sunset-genetics",
   "metadata": {
    "execution": {
     "iopub.execute_input": "2021-04-04T11:20:52.374762Z",
     "iopub.status.busy": "2021-04-04T11:20:52.373651Z",
     "iopub.status.idle": "2021-04-04T11:20:52.379187Z",
     "shell.execute_reply": "2021-04-04T11:20:52.379669Z"
    },
    "papermill": {
     "duration": 0.057584,
     "end_time": "2021-04-04T11:20:52.379863",
     "exception": false,
     "start_time": "2021-04-04T11:20:52.322279",
     "status": "completed"
    },
    "tags": []
   },
   "outputs": [],
   "source": [
    "y_pred_df_new = pd.DataFrame({'actual':Y,'predicted_prob': pred_y[:,1]})"
   ]
  },
  {
   "cell_type": "code",
   "execution_count": 48,
   "id": "civilian-tribute",
   "metadata": {
    "execution": {
     "iopub.execute_input": "2021-04-04T11:20:52.501379Z",
     "iopub.status.busy": "2021-04-04T11:20:52.500202Z",
     "iopub.status.idle": "2021-04-04T11:20:52.507404Z",
     "shell.execute_reply": "2021-04-04T11:20:52.508189Z"
    },
    "papermill": {
     "duration": 0.074071,
     "end_time": "2021-04-04T11:20:52.508479",
     "exception": false,
     "start_time": "2021-04-04T11:20:52.434408",
     "status": "completed"
    },
    "tags": []
   },
   "outputs": [
    {
     "data": {
      "text/html": [
       "<div>\n",
       "<style scoped>\n",
       "    .dataframe tbody tr th:only-of-type {\n",
       "        vertical-align: middle;\n",
       "    }\n",
       "\n",
       "    .dataframe tbody tr th {\n",
       "        vertical-align: top;\n",
       "    }\n",
       "\n",
       "    .dataframe thead th {\n",
       "        text-align: right;\n",
       "    }\n",
       "</style>\n",
       "<table border=\"1\" class=\"dataframe\">\n",
       "  <thead>\n",
       "    <tr style=\"text-align: right;\">\n",
       "      <th></th>\n",
       "      <th>actual</th>\n",
       "      <th>predicted_prob</th>\n",
       "    </tr>\n",
       "  </thead>\n",
       "  <tbody>\n",
       "    <tr>\n",
       "      <th>0</th>\n",
       "      <td>0</td>\n",
       "      <td>0.046658</td>\n",
       "    </tr>\n",
       "    <tr>\n",
       "      <th>1</th>\n",
       "      <td>0</td>\n",
       "      <td>0.026224</td>\n",
       "    </tr>\n",
       "    <tr>\n",
       "      <th>2</th>\n",
       "      <td>0</td>\n",
       "      <td>0.019477</td>\n",
       "    </tr>\n",
       "    <tr>\n",
       "      <th>3</th>\n",
       "      <td>0</td>\n",
       "      <td>0.021527</td>\n",
       "    </tr>\n",
       "    <tr>\n",
       "      <th>4</th>\n",
       "      <td>0</td>\n",
       "      <td>0.107405</td>\n",
       "    </tr>\n",
       "  </tbody>\n",
       "</table>\n",
       "</div>"
      ],
      "text/plain": [
       "   actual  predicted_prob\n",
       "0       0        0.046658\n",
       "1       0        0.026224\n",
       "2       0        0.019477\n",
       "3       0        0.021527\n",
       "4       0        0.107405"
      ]
     },
     "execution_count": 48,
     "metadata": {},
     "output_type": "execute_result"
    }
   ],
   "source": [
    "y_pred_df_new.head()"
   ]
  },
  {
   "cell_type": "code",
   "execution_count": 49,
   "id": "revolutionary-swimming",
   "metadata": {
    "execution": {
     "iopub.execute_input": "2021-04-04T11:20:52.623380Z",
     "iopub.status.busy": "2021-04-04T11:20:52.622734Z",
     "iopub.status.idle": "2021-04-04T11:20:52.636726Z",
     "shell.execute_reply": "2021-04-04T11:20:52.637225Z"
    },
    "papermill": {
     "duration": 0.065288,
     "end_time": "2021-04-04T11:20:52.637465",
     "exception": false,
     "start_time": "2021-04-04T11:20:52.572177",
     "status": "completed"
    },
    "tags": []
   },
   "outputs": [],
   "source": [
    "sorted_predict_df_new = y_pred_df_new[['predicted_prob','actual']].sort_values('predicted_prob',ascending =False)"
   ]
  },
  {
   "cell_type": "code",
   "execution_count": 50,
   "id": "coated-honey",
   "metadata": {
    "execution": {
     "iopub.execute_input": "2021-04-04T11:20:52.737779Z",
     "iopub.status.busy": "2021-04-04T11:20:52.736740Z",
     "iopub.status.idle": "2021-04-04T11:20:52.746951Z",
     "shell.execute_reply": "2021-04-04T11:20:52.747432Z"
    },
    "papermill": {
     "duration": 0.062263,
     "end_time": "2021-04-04T11:20:52.747639",
     "exception": false,
     "start_time": "2021-04-04T11:20:52.685376",
     "status": "completed"
    },
    "tags": []
   },
   "outputs": [],
   "source": [
    "deciles_predict_df_new = get_deciles(sorted_predict_df_new)"
   ]
  },
  {
   "cell_type": "code",
   "execution_count": 51,
   "id": "stupid-alabama",
   "metadata": {
    "execution": {
     "iopub.execute_input": "2021-04-04T11:20:52.844611Z",
     "iopub.status.busy": "2021-04-04T11:20:52.843698Z",
     "iopub.status.idle": "2021-04-04T11:20:52.854965Z",
     "shell.execute_reply": "2021-04-04T11:20:52.855378Z"
    },
    "papermill": {
     "duration": 0.059479,
     "end_time": "2021-04-04T11:20:52.855575",
     "exception": false,
     "start_time": "2021-04-04T11:20:52.796096",
     "status": "completed"
    },
    "tags": []
   },
   "outputs": [
    {
     "data": {
      "text/html": [
       "<div>\n",
       "<style scoped>\n",
       "    .dataframe tbody tr th:only-of-type {\n",
       "        vertical-align: middle;\n",
       "    }\n",
       "\n",
       "    .dataframe tbody tr th {\n",
       "        vertical-align: top;\n",
       "    }\n",
       "\n",
       "    .dataframe thead th {\n",
       "        text-align: right;\n",
       "    }\n",
       "</style>\n",
       "<table border=\"1\" class=\"dataframe\">\n",
       "  <thead>\n",
       "    <tr style=\"text-align: right;\">\n",
       "      <th></th>\n",
       "      <th>predicted_prob</th>\n",
       "      <th>actual</th>\n",
       "      <th>decile</th>\n",
       "    </tr>\n",
       "  </thead>\n",
       "  <tbody>\n",
       "    <tr>\n",
       "      <th>24148</th>\n",
       "      <td>1.000000</td>\n",
       "      <td>0</td>\n",
       "      <td>1</td>\n",
       "    </tr>\n",
       "    <tr>\n",
       "      <th>44602</th>\n",
       "      <td>0.999992</td>\n",
       "      <td>0</td>\n",
       "      <td>1</td>\n",
       "    </tr>\n",
       "    <tr>\n",
       "      <th>9947</th>\n",
       "      <td>0.999988</td>\n",
       "      <td>1</td>\n",
       "      <td>1</td>\n",
       "    </tr>\n",
       "    <tr>\n",
       "      <th>19639</th>\n",
       "      <td>0.999978</td>\n",
       "      <td>0</td>\n",
       "      <td>1</td>\n",
       "    </tr>\n",
       "    <tr>\n",
       "      <th>24095</th>\n",
       "      <td>0.999977</td>\n",
       "      <td>0</td>\n",
       "      <td>1</td>\n",
       "    </tr>\n",
       "    <tr>\n",
       "      <th>21113</th>\n",
       "      <td>0.999974</td>\n",
       "      <td>0</td>\n",
       "      <td>1</td>\n",
       "    </tr>\n",
       "    <tr>\n",
       "      <th>24044</th>\n",
       "      <td>0.999956</td>\n",
       "      <td>1</td>\n",
       "      <td>1</td>\n",
       "    </tr>\n",
       "    <tr>\n",
       "      <th>12347</th>\n",
       "      <td>0.999884</td>\n",
       "      <td>1</td>\n",
       "      <td>1</td>\n",
       "    </tr>\n",
       "    <tr>\n",
       "      <th>28872</th>\n",
       "      <td>0.999836</td>\n",
       "      <td>0</td>\n",
       "      <td>1</td>\n",
       "    </tr>\n",
       "    <tr>\n",
       "      <th>31337</th>\n",
       "      <td>0.999788</td>\n",
       "      <td>1</td>\n",
       "      <td>1</td>\n",
       "    </tr>\n",
       "    <tr>\n",
       "      <th>30154</th>\n",
       "      <td>0.999763</td>\n",
       "      <td>1</td>\n",
       "      <td>1</td>\n",
       "    </tr>\n",
       "    <tr>\n",
       "      <th>31500</th>\n",
       "      <td>0.999721</td>\n",
       "      <td>0</td>\n",
       "      <td>1</td>\n",
       "    </tr>\n",
       "    <tr>\n",
       "      <th>30747</th>\n",
       "      <td>0.999704</td>\n",
       "      <td>1</td>\n",
       "      <td>1</td>\n",
       "    </tr>\n",
       "    <tr>\n",
       "      <th>2386</th>\n",
       "      <td>0.999677</td>\n",
       "      <td>0</td>\n",
       "      <td>1</td>\n",
       "    </tr>\n",
       "    <tr>\n",
       "      <th>28696</th>\n",
       "      <td>0.999498</td>\n",
       "      <td>1</td>\n",
       "      <td>1</td>\n",
       "    </tr>\n",
       "    <tr>\n",
       "      <th>24054</th>\n",
       "      <td>0.999400</td>\n",
       "      <td>0</td>\n",
       "      <td>1</td>\n",
       "    </tr>\n",
       "    <tr>\n",
       "      <th>6451</th>\n",
       "      <td>0.999335</td>\n",
       "      <td>1</td>\n",
       "      <td>1</td>\n",
       "    </tr>\n",
       "    <tr>\n",
       "      <th>10726</th>\n",
       "      <td>0.999204</td>\n",
       "      <td>1</td>\n",
       "      <td>1</td>\n",
       "    </tr>\n",
       "    <tr>\n",
       "      <th>17642</th>\n",
       "      <td>0.999135</td>\n",
       "      <td>1</td>\n",
       "      <td>1</td>\n",
       "    </tr>\n",
       "    <tr>\n",
       "      <th>4382</th>\n",
       "      <td>0.998979</td>\n",
       "      <td>0</td>\n",
       "      <td>1</td>\n",
       "    </tr>\n",
       "  </tbody>\n",
       "</table>\n",
       "</div>"
      ],
      "text/plain": [
       "       predicted_prob  actual  decile\n",
       "24148        1.000000       0       1\n",
       "44602        0.999992       0       1\n",
       "9947         0.999988       1       1\n",
       "19639        0.999978       0       1\n",
       "24095        0.999977       0       1\n",
       "21113        0.999974       0       1\n",
       "24044        0.999956       1       1\n",
       "12347        0.999884       1       1\n",
       "28872        0.999836       0       1\n",
       "31337        0.999788       1       1\n",
       "30154        0.999763       1       1\n",
       "31500        0.999721       0       1\n",
       "30747        0.999704       1       1\n",
       "2386         0.999677       0       1\n",
       "28696        0.999498       1       1\n",
       "24054        0.999400       0       1\n",
       "6451         0.999335       1       1\n",
       "10726        0.999204       1       1\n",
       "17642        0.999135       1       1\n",
       "4382         0.998979       0       1"
      ]
     },
     "execution_count": 51,
     "metadata": {},
     "output_type": "execute_result"
    }
   ],
   "source": [
    "deciles_predict_df_new[0:20]"
   ]
  },
  {
   "cell_type": "code",
   "execution_count": 52,
   "id": "dimensional-presentation",
   "metadata": {
    "execution": {
     "iopub.execute_input": "2021-04-04T11:20:52.949196Z",
     "iopub.status.busy": "2021-04-04T11:20:52.948263Z",
     "iopub.status.idle": "2021-04-04T11:20:52.956520Z",
     "shell.execute_reply": "2021-04-04T11:20:52.957070Z"
    },
    "papermill": {
     "duration": 0.056815,
     "end_time": "2021-04-04T11:20:52.957334",
     "exception": false,
     "start_time": "2021-04-04T11:20:52.900519",
     "status": "completed"
    },
    "tags": []
   },
   "outputs": [],
   "source": [
    "gain_lift_df_new = pd.DataFrame(deciles_predict_df_new.groupby('decile')['actual'].sum()).reset_index()\n",
    "gain_lift_df_new.columns = ['decile','gain']"
   ]
  },
  {
   "cell_type": "code",
   "execution_count": 53,
   "id": "practical-danger",
   "metadata": {
    "execution": {
     "iopub.execute_input": "2021-04-04T11:20:53.056954Z",
     "iopub.status.busy": "2021-04-04T11:20:53.056297Z",
     "iopub.status.idle": "2021-04-04T11:20:53.060049Z",
     "shell.execute_reply": "2021-04-04T11:20:53.060502Z"
    },
    "papermill": {
     "duration": 0.056693,
     "end_time": "2021-04-04T11:20:53.060686",
     "exception": false,
     "start_time": "2021-04-04T11:20:53.003993",
     "status": "completed"
    },
    "tags": []
   },
   "outputs": [],
   "source": [
    "gain_lift_df_new['gain_percentage']=(100*gain_lift_df_new.gain.cumsum()/gain_lift_df_new.gain.sum())"
   ]
  },
  {
   "cell_type": "code",
   "execution_count": 54,
   "id": "musical-junction",
   "metadata": {
    "execution": {
     "iopub.execute_input": "2021-04-04T11:20:53.164009Z",
     "iopub.status.busy": "2021-04-04T11:20:53.162913Z",
     "iopub.status.idle": "2021-04-04T11:20:53.167352Z",
     "shell.execute_reply": "2021-04-04T11:20:53.167831Z"
    },
    "papermill": {
     "duration": 0.06085,
     "end_time": "2021-04-04T11:20:53.168011",
     "exception": false,
     "start_time": "2021-04-04T11:20:53.107161",
     "status": "completed"
    },
    "tags": []
   },
   "outputs": [
    {
     "data": {
      "text/html": [
       "<div>\n",
       "<style scoped>\n",
       "    .dataframe tbody tr th:only-of-type {\n",
       "        vertical-align: middle;\n",
       "    }\n",
       "\n",
       "    .dataframe tbody tr th {\n",
       "        vertical-align: top;\n",
       "    }\n",
       "\n",
       "    .dataframe thead th {\n",
       "        text-align: right;\n",
       "    }\n",
       "</style>\n",
       "<table border=\"1\" class=\"dataframe\">\n",
       "  <thead>\n",
       "    <tr style=\"text-align: right;\">\n",
       "      <th></th>\n",
       "      <th>decile</th>\n",
       "      <th>gain</th>\n",
       "      <th>gain_percentage</th>\n",
       "    </tr>\n",
       "  </thead>\n",
       "  <tbody>\n",
       "    <tr>\n",
       "      <th>0</th>\n",
       "      <td>1</td>\n",
       "      <td>2302</td>\n",
       "      <td>43.524296</td>\n",
       "    </tr>\n",
       "    <tr>\n",
       "      <th>1</th>\n",
       "      <td>2</td>\n",
       "      <td>1257</td>\n",
       "      <td>67.290603</td>\n",
       "    </tr>\n",
       "    <tr>\n",
       "      <th>2</th>\n",
       "      <td>3</td>\n",
       "      <td>677</td>\n",
       "      <td>80.090754</td>\n",
       "    </tr>\n",
       "    <tr>\n",
       "      <th>3</th>\n",
       "      <td>4</td>\n",
       "      <td>373</td>\n",
       "      <td>87.143127</td>\n",
       "    </tr>\n",
       "    <tr>\n",
       "      <th>4</th>\n",
       "      <td>5</td>\n",
       "      <td>243</td>\n",
       "      <td>91.737569</td>\n",
       "    </tr>\n",
       "    <tr>\n",
       "      <th>5</th>\n",
       "      <td>6</td>\n",
       "      <td>176</td>\n",
       "      <td>95.065230</td>\n",
       "    </tr>\n",
       "    <tr>\n",
       "      <th>6</th>\n",
       "      <td>7</td>\n",
       "      <td>111</td>\n",
       "      <td>97.163925</td>\n",
       "    </tr>\n",
       "    <tr>\n",
       "      <th>7</th>\n",
       "      <td>8</td>\n",
       "      <td>59</td>\n",
       "      <td>98.279448</td>\n",
       "    </tr>\n",
       "    <tr>\n",
       "      <th>8</th>\n",
       "      <td>9</td>\n",
       "      <td>37</td>\n",
       "      <td>98.979013</td>\n",
       "    </tr>\n",
       "    <tr>\n",
       "      <th>9</th>\n",
       "      <td>10</td>\n",
       "      <td>54</td>\n",
       "      <td>100.000000</td>\n",
       "    </tr>\n",
       "  </tbody>\n",
       "</table>\n",
       "</div>"
      ],
      "text/plain": [
       "   decile  gain  gain_percentage\n",
       "0       1  2302        43.524296\n",
       "1       2  1257        67.290603\n",
       "2       3   677        80.090754\n",
       "3       4   373        87.143127\n",
       "4       5   243        91.737569\n",
       "5       6   176        95.065230\n",
       "6       7   111        97.163925\n",
       "7       8    59        98.279448\n",
       "8       9    37        98.979013\n",
       "9      10    54       100.000000"
      ]
     },
     "execution_count": 54,
     "metadata": {},
     "output_type": "execute_result"
    }
   ],
   "source": [
    "gain_lift_df_new"
   ]
  },
  {
   "cell_type": "code",
   "execution_count": 55,
   "id": "phantom-slovenia",
   "metadata": {
    "execution": {
     "iopub.execute_input": "2021-04-04T11:20:53.276770Z",
     "iopub.status.busy": "2021-04-04T11:20:53.275991Z",
     "iopub.status.idle": "2021-04-04T11:20:53.280219Z",
     "shell.execute_reply": "2021-04-04T11:20:53.279619Z"
    },
    "papermill": {
     "duration": 0.066131,
     "end_time": "2021-04-04T11:20:53.280370",
     "exception": false,
     "start_time": "2021-04-04T11:20:53.214239",
     "status": "completed"
    },
    "tags": []
   },
   "outputs": [
    {
     "data": {
      "text/html": [
       "<div>\n",
       "<style scoped>\n",
       "    .dataframe tbody tr th:only-of-type {\n",
       "        vertical-align: middle;\n",
       "    }\n",
       "\n",
       "    .dataframe tbody tr th {\n",
       "        vertical-align: top;\n",
       "    }\n",
       "\n",
       "    .dataframe thead th {\n",
       "        text-align: right;\n",
       "    }\n",
       "</style>\n",
       "<table border=\"1\" class=\"dataframe\">\n",
       "  <thead>\n",
       "    <tr style=\"text-align: right;\">\n",
       "      <th></th>\n",
       "      <th>decile</th>\n",
       "      <th>gain</th>\n",
       "      <th>gain_percentage</th>\n",
       "      <th>lift</th>\n",
       "    </tr>\n",
       "  </thead>\n",
       "  <tbody>\n",
       "    <tr>\n",
       "      <th>0</th>\n",
       "      <td>1</td>\n",
       "      <td>2302</td>\n",
       "      <td>43.524296</td>\n",
       "      <td>4.352430</td>\n",
       "    </tr>\n",
       "    <tr>\n",
       "      <th>1</th>\n",
       "      <td>2</td>\n",
       "      <td>1257</td>\n",
       "      <td>67.290603</td>\n",
       "      <td>3.364530</td>\n",
       "    </tr>\n",
       "    <tr>\n",
       "      <th>2</th>\n",
       "      <td>3</td>\n",
       "      <td>677</td>\n",
       "      <td>80.090754</td>\n",
       "      <td>2.669692</td>\n",
       "    </tr>\n",
       "    <tr>\n",
       "      <th>3</th>\n",
       "      <td>4</td>\n",
       "      <td>373</td>\n",
       "      <td>87.143127</td>\n",
       "      <td>2.178578</td>\n",
       "    </tr>\n",
       "    <tr>\n",
       "      <th>4</th>\n",
       "      <td>5</td>\n",
       "      <td>243</td>\n",
       "      <td>91.737569</td>\n",
       "      <td>1.834751</td>\n",
       "    </tr>\n",
       "    <tr>\n",
       "      <th>5</th>\n",
       "      <td>6</td>\n",
       "      <td>176</td>\n",
       "      <td>95.065230</td>\n",
       "      <td>1.584420</td>\n",
       "    </tr>\n",
       "    <tr>\n",
       "      <th>6</th>\n",
       "      <td>7</td>\n",
       "      <td>111</td>\n",
       "      <td>97.163925</td>\n",
       "      <td>1.388056</td>\n",
       "    </tr>\n",
       "    <tr>\n",
       "      <th>7</th>\n",
       "      <td>8</td>\n",
       "      <td>59</td>\n",
       "      <td>98.279448</td>\n",
       "      <td>1.228493</td>\n",
       "    </tr>\n",
       "    <tr>\n",
       "      <th>8</th>\n",
       "      <td>9</td>\n",
       "      <td>37</td>\n",
       "      <td>98.979013</td>\n",
       "      <td>1.099767</td>\n",
       "    </tr>\n",
       "    <tr>\n",
       "      <th>9</th>\n",
       "      <td>10</td>\n",
       "      <td>54</td>\n",
       "      <td>100.000000</td>\n",
       "      <td>1.000000</td>\n",
       "    </tr>\n",
       "  </tbody>\n",
       "</table>\n",
       "</div>"
      ],
      "text/plain": [
       "   decile  gain  gain_percentage      lift\n",
       "0       1  2302        43.524296  4.352430\n",
       "1       2  1257        67.290603  3.364530\n",
       "2       3   677        80.090754  2.669692\n",
       "3       4   373        87.143127  2.178578\n",
       "4       5   243        91.737569  1.834751\n",
       "5       6   176        95.065230  1.584420\n",
       "6       7   111        97.163925  1.388056\n",
       "7       8    59        98.279448  1.228493\n",
       "8       9    37        98.979013  1.099767\n",
       "9      10    54       100.000000  1.000000"
      ]
     },
     "execution_count": 55,
     "metadata": {},
     "output_type": "execute_result"
    }
   ],
   "source": [
    "gain_lift_df_new['lift']=(gain_lift_df_new.gain_percentage / (gain_lift_df_new.decile * 10))\n",
    "gain_lift_df_new"
   ]
  },
  {
   "cell_type": "code",
   "execution_count": 56,
   "id": "helpful-disclaimer",
   "metadata": {
    "execution": {
     "iopub.execute_input": "2021-04-04T11:20:53.377810Z",
     "iopub.status.busy": "2021-04-04T11:20:53.377131Z",
     "iopub.status.idle": "2021-04-04T11:20:53.380977Z",
     "shell.execute_reply": "2021-04-04T11:20:53.381431Z"
    },
    "papermill": {
     "duration": 0.054509,
     "end_time": "2021-04-04T11:20:53.381640",
     "exception": false,
     "start_time": "2021-04-04T11:20:53.327131",
     "status": "completed"
    },
    "tags": []
   },
   "outputs": [],
   "source": [
    "#We can also calculate Lift and Gain curves by just writting a single line of code "
   ]
  },
  {
   "cell_type": "code",
   "execution_count": 58,
   "id": "prescription-hybrid",
   "metadata": {
    "execution": {
     "iopub.execute_input": "2021-04-04T11:20:53.482062Z",
     "iopub.status.busy": "2021-04-04T11:20:53.481345Z",
     "iopub.status.idle": "2021-04-04T11:20:53.693666Z",
     "shell.execute_reply": "2021-04-04T11:20:53.692952Z"
    },
    "papermill": {
     "duration": 0.264668,
     "end_time": "2021-04-04T11:20:53.693827",
     "exception": false,
     "start_time": "2021-04-04T11:20:53.429159",
     "status": "completed"
    },
    "tags": []
   },
   "outputs": [
    {
     "data": {
      "text/plain": [
       "<Axes: title={'center': 'Cumulative Gains Curve'}, xlabel='Percentage of sample', ylabel='Gain'>"
      ]
     },
     "execution_count": 58,
     "metadata": {},
     "output_type": "execute_result"
    },
    {
     "data": {
      "image/png": "[encoded data removed]",
      "text/plain": [
       "<Figure size 640x480 with 1 Axes>"
      ]
     },
     "metadata": {},
     "output_type": "display_data"
    }
   ],
   "source": [
    "import scikitplot as skplt\n",
    "#following line is used to find Gains Curve\n",
    "skplt.metrics.plot_cumulative_gain(Y,pred_y)"
   ]
  },
  {
   "cell_type": "code",
   "execution_count": 59,
   "id": "breeding-appointment",
   "metadata": {
    "execution": {
     "iopub.execute_input": "2021-04-04T11:20:53.794989Z",
     "iopub.status.busy": "2021-04-04T11:20:53.794355Z",
     "iopub.status.idle": "2021-04-04T11:20:53.981207Z",
     "shell.execute_reply": "2021-04-04T11:20:53.980590Z"
    },
    "papermill": {
     "duration": 0.239376,
     "end_time": "2021-04-04T11:20:53.981362",
     "exception": false,
     "start_time": "2021-04-04T11:20:53.741986",
     "status": "completed"
    },
    "tags": []
   },
   "outputs": [
    {
     "data": {
      "text/plain": [
       "<Axes: title={'center': 'Lift Curve'}, xlabel='Percentage of sample', ylabel='Lift'>"
      ]
     },
     "execution_count": 59,
     "metadata": {},
     "output_type": "execute_result"
    },
    {
     "data": {
      "image/png": "[encoded data removed]",
      "text/plain": [
       "<Figure size 640x480 with 1 Axes>"
      ]
     },
     "metadata": {},
     "output_type": "display_data"
    }
   ],
   "source": [
    "#Following line is used to find Lift curve\n",
    "skplt.metrics.plot_lift_curve(Y,pred_y)"
   ]
  },
  {
   "cell_type": "code",
   "execution_count": null,
   "id": "3f22ebcf",
   "metadata": {},
   "outputs": [],
   "source": []
  }
 ],
 "metadata": {
  "kernelspec": {
   "display_name": "Python 3",
   "language": "python",
   "name": "python3"
  },
  "language_info": {
   "codemirror_mode": {
    "name": "ipython",
    "version": 3
   },
   "file_extension": ".py",
   "mimetype": "text/x-python",
   "name": "python",
   "nbconvert_exporter": "python",
   "pygments_lexer": "ipython3",
   "version": "3.11.4"
  },
  "papermill": {
   "default_parameters": {},
   "duration": 21.715546,
   "end_time": "2021-04-04T11:20:54.741258",
   "environment_variables": {},
   "exception": null,
   "input_path": "__notebook__.ipynb",
   "output_path": "__notebook__.ipynb",
   "parameters": {},
   "start_time": "2021-04-04T11:20:33.025712",
   "version": "2.3.2"
  }
 },
 "nbformat": 4,
 "nbformat_minor": 5
}
